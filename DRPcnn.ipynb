{
 "cells": [
  {
   "cell_type": "code",
   "execution_count": 1,
   "metadata": {},
   "outputs": [],
   "source": [
    "%matplotlib inline\n",
    "import matplotlib.pyplot as plt\n",
    "import tensorflow as tf\n",
    "import numpy as np\n",
    "from sklearn.metrics import confusion_matrix\n",
    "import time\n",
    "from datetime import timedelta\n",
    "import math\n",
    "import pickle\n",
    "import pandas"
   ]
  },
  {
   "cell_type": "code",
   "execution_count": 2,
   "metadata": {},
   "outputs": [],
   "source": [
    "import os\n",
    "from sklearn.preprocessing import MinMaxScaler"
   ]
  },
  {
   "cell_type": "markdown",
   "metadata": {},
   "source": [
    "# Configuration of Neural Network"
   ]
  },
  {
   "cell_type": "code",
   "execution_count": 3,
   "metadata": {},
   "outputs": [],
   "source": [
    "# Convolutional Layer 1\n",
    "filter_size1 = 5  # Convolution filters are 5 x 5 pixels.\n",
    "num_filters1 = 16 # There are 16 of these filters\n",
    "\n",
    "# Convolutional Layer 2\n",
    "filter_size2 = 5  # Convolution filters are 5 x 5 pixels.\n",
    "num_filters2 = 36 # There are 36 of these filters\n",
    "\n",
    "# Fully-connected Layer\n",
    "fc_size = 128     # Number of neurons in fully-connected layer."
   ]
  },
  {
   "cell_type": "markdown",
   "metadata": {},
   "source": [
    "# Load Data"
   ]
  },
  {
   "cell_type": "code",
   "execution_count": 4,
   "metadata": {},
   "outputs": [],
   "source": [
    "#open files, they have not been normalized yet\n",
    "dffile = open('masdfr4m7170317s1.pkl',\"rb\")\n",
    "dyfile = open('r4m7170317s1.pkl', \"rb\")\n",
    "df = pickle.load(dffile)\n",
    "dy = pickle.load(dyfile)"
   ]
  },
  {
   "cell_type": "code",
   "execution_count": 5,
   "metadata": {},
   "outputs": [
    {
     "name": "stdout",
     "output_type": "stream",
     "text": [
      "<class 'numpy.ndarray'>\n",
      "Shape: (2400, 8)\n",
      "<class 'numpy.ndarray'>\n",
      "Shape: (2400, 22360)\n",
      "reshaped: (172, 130, 2400)\n",
      "2400\n",
      "2160\n",
      "240\n"
     ]
    }
   ],
   "source": [
    "#TODO, reshape the image back to an image shape \n",
    "x_data = df.values\n",
    "print(type(x_data))\n",
    "print(\"Shape:\", x_data.shape)\n",
    "print(type(dy))\n",
    "print(\"Shape:\", dy.shape)\n",
    "dy = dy.reshape(172,130,len(dy))\n",
    "print(\"reshaped:\", dy.shape)\n",
    "num_data = len(x_data)\n",
    "print(num_data)\n",
    "train_split = 0.9\n",
    "num_train = int(train_split*num_data)\n",
    "print(num_train)\n",
    "num_test = num_data - num_train\n",
    "print(num_test)\n",
    "\n",
    "x_train = x_data[0:num_train]\n",
    "x_test = x_data[num_train:]\n",
    "y_train = dy[0:num_train]\n",
    "y_test = dy[num_train:]"
   ]
  },
  {
   "cell_type": "code",
   "execution_count": null,
   "metadata": {},
   "outputs": [],
   "source": [
    "#TODO update this\n",
    "# The number of pixels in each dimension of an image.\n",
    "img_size = (172*130)\n",
    "\n",
    "# The images are stored in one-dimensional arrays of this length.\n",
    "img_size_flat = (172*130)\n",
    "\n",
    "# Tuple with height and width of images used to reshape arrays.\n",
    "img_shape = (172, 130)\n",
    "\n",
    "# I dont think I have this\n",
    "# Number of classes, one class for each of 10 digits.\n",
    "# num_classes = data.num_classes\n",
    "\n",
    "# Number of colour channels for the images: 1 channel for gray-scale.\n",
    "num_channels = data.num_channels"
   ]
  },
  {
   "cell_type": "code",
   "execution_count": null,
   "metadata": {},
   "outputs": [],
   "source": []
  }
 ],
 "metadata": {
  "kernelspec": {
   "display_name": "Python 3",
   "language": "python",
   "name": "python3"
  },
  "language_info": {
   "codemirror_mode": {
    "name": "ipython",
    "version": 3
   },
   "file_extension": ".py",
   "mimetype": "text/x-python",
   "name": "python",
   "nbconvert_exporter": "python",
   "pygments_lexer": "ipython3",
   "version": "3.6.7"
  }
 },
 "nbformat": 4,
 "nbformat_minor": 2
}
