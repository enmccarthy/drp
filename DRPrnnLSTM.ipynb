{
 "cells": [
  {
   "cell_type": "code",
   "execution_count": 159,
   "metadata": {},
   "outputs": [],
   "source": [
    "%matplotlib inline\n",
    "import os\n",
    "# os.environ[\"CUDA_DEVICE_ORDER\"]=\"PCI_BUS_ID\";\n",
    " \n",
    "# The GPU id to use, usually either \"0\" or \"1\";\n",
    "# os.environ[\"CUDA_VISIBLE_DEVICES\"]=\"1\"; \n",
    "import tensorflow as tf\n",
    "import numpy as np\n",
    "import pickle\n",
    "import pandas\n",
    "import matplotlib.pyplot as plt\n",
    "from sklearn.metrics import r2_score, explained_variance_score\n",
    "from datapipe import bin_ndarray, calcDff\n",
    "from sklearn.externals import joblib\n",
    "#TODO: read tf documentation on what the static_rnn does\n",
    "#do I want to one hot encode the data? or already too many dimensions"
   ]
  },
  {
   "cell_type": "code",
   "execution_count": 2,
   "metadata": {},
   "outputs": [
    {
     "name": "stderr",
     "output_type": "stream",
     "text": [
      "Using TensorFlow backend.\n"
     ]
    }
   ],
   "source": [
    "import os\n",
    "from sklearn.preprocessing import MinMaxScaler\n",
    "from keras.models import Sequential, load_model, Model\n",
    "from keras.layers import Input, Dense, GRU, Embedding, LSTM, Dropout\n",
    "from keras.optimizers import RMSprop\n",
    "from keras.callbacks import EarlyStopping, ModelCheckpoint, TensorBoard, ReduceLROnPlateau"
   ]
  },
  {
   "cell_type": "code",
   "execution_count": 3,
   "metadata": {},
   "outputs": [],
   "source": [
    "np.random.seed(0)"
   ]
  },
  {
   "cell_type": "code",
   "execution_count": 4,
   "metadata": {},
   "outputs": [],
   "source": [
    "tf.__version__\n",
    "from tensorflow.python.ops import control_flow_ops\n",
    "\n",
    "orig_while_loop = control_flow_ops.while_loop\n",
    "\n",
    "def patched_while_loop(*args, **kwargs):\n",
    "    kwargs.pop(\"maximum_iterations\", None)  # Ignore.\n",
    "    return orig_while_loop(*args, **kwargs)\n",
    "\n",
    "\n",
    "control_flow_ops.while_loop = patched_while_loop"
   ]
  },
  {
   "cell_type": "code",
   "execution_count": 5,
   "metadata": {},
   "outputs": [],
   "source": [
    "def process_dy(dy):\n",
    "    (length, y, x) = dy.shape\n",
    "    newdy = np.zeros((length, y-40, x-50), dtype=np.float16)\n",
    "    for ind, image in enumerate(dy):\n",
    "        newimg = image[1:-39, 0:-50]\n",
    "        newdy[ind] = image[1:-39, 0:-50]\n",
    "    print(newdy[0].shape)\n",
    "    return bin_dy(newdy)\n",
    "    # newdyfile = open('./dfy/cropped_AV_2.pkl', 'wb')\n",
    "#     np.save('./data/cropped_AV_5.npy', newdy)"
   ]
  },
  {
   "cell_type": "code",
   "execution_count": 6,
   "metadata": {},
   "outputs": [],
   "source": [
    "def bin_dy(dy):\n",
    "    (length, y, x) = dy.shape\n",
    "    print(dy.shape)\n",
    "    newdy = np.zeros((length, int(y/2), int(x/2)), dtype=np.float16)\n",
    "    for ind, image in enumerate(dy):\n",
    "        newdy[ind] = bin_ndarray(image, (int(y/2), int(x/2)))\n",
    "    # newdyfile = open('./dfy/bin_AV_2.pkl', 'wb')\n",
    "    print(newdy.shape)\n",
    "    return newdy"
   ]
  },
  {
   "cell_type": "code",
   "execution_count": 6,
   "metadata": {},
   "outputs": [],
   "source": [
    "# #open files, they have not been normalized yet\n",
    "# dffile = open('masdfr3m1170210s2.pkl',\"rb\")\n",
    "# dyfile = open('r3m1170210s2.pkl', \"rb\")\n",
    "# df = pickle.load(dffile)\n",
    "# df = df.drop(columns='pupilCurr', axis=1)\n",
    "# df = df.drop(columns='pupilPeri', axis=1)\n",
    "# df = df.interpolate()\n",
    "# dy = pickle.load(dyfile)\n",
    "# #dataset2\n",
    "# dffile = open('masdfr4m7170321s1.pkl',\"rb\")\n",
    "# dyfile = open('r4m7170321s1.pkl', \"rb\")\n",
    "# df = pickle.load(dffile)\n",
    "# df = df.drop(columns='pupilCurr', axis=1)\n",
    "# df = df.drop(columns='pupilPeri', axis=1)\n",
    "# df = df.interpolate()\n",
    "# dy = pickle.load(dyfile)"
   ]
  },
  {
   "cell_type": "code",
   "execution_count": 7,
   "metadata": {},
   "outputs": [
    {
     "name": "stdout",
     "output_type": "stream",
     "text": [
      "52478 295 300\n"
     ]
    }
   ],
   "source": [
    "#loading full file on disk, can access small slices without loading into memory\n",
    "dy = np.load('./data/dffAV_2.npy', mmap_mode='r')\n",
    "# dy = process_dy(dy)\n",
    "# dy = calcDff(dy, .2, 30)\n",
    "f = open('./data/masdfAV_2.pkl', 'rb')\n",
    "df = pickle.load(f)\n",
    "(length, y, x) = dy.shape\n",
    "print(length, x, y)"
   ]
  },
  {
   "cell_type": "code",
   "execution_count": null,
   "metadata": {},
   "outputs": [],
   "source": [
    "#load in encoders\n",
    "# earEncoder\n",
    "earEncoder = load('earEncoder.h5')\n",
    "# eyeEncoder\n",
    "eyeEncoder = load('eyeEncoder.h5')\n"
   ]
  },
  {
   "cell_type": "code",
   "execution_count": 70,
   "metadata": {},
   "outputs": [],
   "source": [
    "#encodedwhisk dataset\n",
    "whisk_encoded = np.load(\"./data/whisk_encoded_df.npy\")"
   ]
  },
  {
   "cell_type": "code",
   "execution_count": 175,
   "metadata": {},
   "outputs": [],
   "source": [
    "#10hz data\n",
    "dfcropped = (df.iloc[::3])\n",
    "dfcropped = dfcropped[[\"stimType\", \"pupilCurr\", \"snoutCurr\",\"jawCurr\",\"wheelCurr\",\"responseT\", \"H\", \"M\", \"FA\", \"CR\",\n",
    "                 \"whiskCurr\", \"lastStimT\",\"vidCurr\"]]\n",
    "\n",
    "dycropped= (dy[::3])\n",
    "(length, leny, lenx) = dycropped.shape\n",
    "dycropped = dycropped.reshape(length, leny*lenx)"
   ]
  },
  {
   "cell_type": "code",
   "execution_count": 162,
   "metadata": {},
   "outputs": [],
   "source": [
    "#15hz data\n",
    "dfcropped = (df.iloc[::2])\n",
    "dfcropped = dfcropped[[\"stimType\", \"pupilCurr\", \"snoutCurr\",\"jawCurr\",\"wheelCurr\",\"responseT\", \"H\", \"M\", \"FA\", \"CR\",\n",
    "                 \"whiskCurr\", \"lastStimT\",\"vidCurr\"]]\n",
    "\n",
    "dycropped = (dy[::2])\n",
    "(length, leny, lenx) = dycropped.shape\n",
    "dycropped = dycropped.reshape(length, leny*lenx)"
   ]
  },
  {
   "cell_type": "code",
   "execution_count": 152,
   "metadata": {},
   "outputs": [],
   "source": [
    "#30hz data \n",
    "dfcropped = df[[\"stimType\", \"pupilCurr\", \"snoutCurr\",\"jawCurr\",\"wheelCurr\",\"responseT\", \"H\", \"M\", \"FA\", \"CR\",\n",
    "                 \"whiskCurr\", \"lastStimT\",\"vidCurr\"]]\n",
    "(length, leny, lenx) = dy.shape\n",
    "\n",
    "dycropped = dy.reshape((length, leny*lenx))"
   ]
  },
  {
   "cell_type": "code",
   "execution_count": 227,
   "metadata": {},
   "outputs": [
    {
     "name": "stdout",
     "output_type": "stream",
     "text": [
      "       stimType  pupilCurr  snoutCurr   jawCurr  wheelCurr  responseT    H  \\\n",
      "0          -1.0   0.174866   0.000000  0.000000   3.002167        0.0  0.0   \n",
      "1          -1.0   0.149689   1.135922  2.008626   3.001709        0.0  0.0   \n",
      "2          -1.0   0.145569   1.059639  1.910667   3.002014        0.0  0.0   \n",
      "3          -1.0   0.149994   0.972261  1.818762   3.002167        0.0  0.0   \n",
      "4          -1.0   0.149078   1.001387  1.615047   3.002167        0.0  0.0   \n",
      "5          -1.0   0.143127   1.903745  2.294210   3.001862        0.0  0.0   \n",
      "6          -1.0   0.149689   2.651872  1.808228   3.001862        0.0  0.0   \n",
      "7          -1.0   0.147858   1.222469  2.060219   3.001709        0.0  0.0   \n",
      "8          -1.0   0.143127   1.163107  1.768497   3.002014        0.0  0.0   \n",
      "9          -1.0   0.146637   0.990707  3.043879   3.002319        0.0  0.0   \n",
      "10         -1.0   0.147247   1.802497  3.995272   3.002472        0.0  0.0   \n",
      "11         -1.0   0.144653   1.948128  5.999005   3.002014        0.0  0.0   \n",
      "12         -1.0   0.149078   1.890707  5.884373   3.002472        0.0  0.0   \n",
      "13         -1.0   0.150604   1.290985  2.424851   3.002319        0.0  0.0   \n",
      "14         -1.0   0.150146   1.053814  2.524220   3.002014        0.0  0.0   \n",
      "15         -1.0   0.151672   0.993343  3.524718   3.002472        0.0  0.0   \n",
      "16         -1.0   0.150909   1.168793  2.715909   3.001862        0.0  0.0   \n",
      "17         -1.0   0.152893   1.019695  1.949569   3.001709        0.0  0.0   \n",
      "18         -1.0   0.155029   1.010818  1.987724   3.002167        0.0  0.0   \n",
      "19         -1.0   0.155640   0.913731  1.903368   3.002014        0.0  0.0   \n",
      "20         -1.0   0.157623   0.966158  2.048524   3.001709        0.0  0.0   \n",
      "21         -1.0   0.155487   2.085021  2.352853   3.002167        0.0  0.0   \n",
      "22         -1.0   0.157013   1.444660  2.073324   3.002167        0.0  0.0   \n",
      "23         -1.0   0.148010   1.085853  2.382216   3.001709        0.0  0.0   \n",
      "24         -1.0   0.148773   1.792649  2.484323   3.002319        0.0  0.0   \n",
      "25         -1.0   0.156860   1.185714  2.961596   3.002472        0.0  0.0   \n",
      "26         -1.0   0.152740   1.238974  2.916058   3.002014        0.0  0.0   \n",
      "27         -1.0   0.153809   1.550347  2.287989   3.002472        0.0  0.0   \n",
      "28         -1.0   0.152130   1.519418  2.806403   3.002167        0.0  0.0   \n",
      "29         -1.0   0.151367   1.525243  2.521400   3.002014        0.0  0.0   \n",
      "...         ...        ...        ...       ...        ...        ...  ...   \n",
      "52448       0.0   0.165253   1.838419  7.077887   3.001862        0.0  0.0   \n",
      "52449       0.0   0.164642   3.296671  5.827970   3.001709        0.0  0.0   \n",
      "52450       0.0   0.167389   3.052982  9.889433   3.002014        0.0  0.0   \n",
      "52451       0.0   0.167084   2.203606  9.406520   3.002319        0.0  0.0   \n",
      "52452       0.0   0.167542   1.361026  8.250000   3.002014        0.0  0.0   \n",
      "52453       0.0   0.169220   1.365603  7.875415   3.001862        0.0  0.0   \n",
      "52454       0.0   0.169525   1.375312  6.540478   3.002472        0.0  0.0   \n",
      "52455       0.0   0.170898   1.952011  6.021400   3.002625        0.0  0.0   \n",
      "52456       0.0   0.173645   2.387517  4.747594   3.002014        0.0  0.0   \n",
      "52457       0.0   0.171661   2.142302  4.116374   3.002777        0.0  0.0   \n",
      "52458       0.0   0.174255   1.484189  3.736480   3.002319        0.0  0.0   \n",
      "52459       0.0   0.163269   1.316505  3.794874   3.001862        0.0  0.0   \n",
      "52460       0.0   0.176392   1.241748  3.426924   3.001862        0.0  0.0   \n",
      "52461       0.0   0.177155   1.050902  2.251410   3.001862        0.0  0.0   \n",
      "52462       0.0   0.178375   1.803051  3.247180   3.002014        0.0  0.0   \n",
      "52463       0.0   0.160675   1.605687  2.765677   3.001709        0.0  0.0   \n",
      "52464       0.0   0.179291   2.053537  2.305989   3.002014        0.0  0.0   \n",
      "52465       0.0   0.180664   1.779612  2.957200   3.002167        0.0  0.0   \n",
      "52466       0.0   0.180664   1.833010  3.308394   3.002319        0.0  0.0   \n",
      "52467       0.0   0.179138   1.868793  2.821417   3.002472        0.0  0.0   \n",
      "52468       0.0   0.179443   1.767823  2.297030   3.001556        0.0  0.0   \n",
      "52469       0.0   0.178070   1.691401  3.871931   3.002472        0.0  0.0   \n",
      "52470       0.0   0.179291   1.122330  2.578467   3.002167        0.0  0.0   \n",
      "52471       0.0   0.178528   1.330374  2.599701   3.002014        0.0  0.0   \n",
      "52472       0.0   0.179596   1.960888  3.617037   3.002319        0.0  0.0   \n",
      "52473       0.0   0.174103   1.463800  2.444675   3.002167        0.0  0.0   \n",
      "52474       0.0   0.175323   1.128155  2.188122   3.002014        0.0  0.0   \n",
      "52475       0.0   0.175476   1.321914  1.916141   3.002014        0.0  0.0   \n",
      "52476       0.0   0.174408   1.090985  1.814864   3.002167        0.0  0.0   \n",
      "52477       0.0   0.172577   0.955201  1.809224   3.001862        0.0  0.0   \n",
      "\n",
      "         M   FA   CR  whiskCurr  lastStimT   vidCurr  \n",
      "0      0.0  0.0  0.0   0.032654   0.000000  0.000000  \n",
      "1      0.0  0.0  0.0   0.995178   0.000000  0.856599  \n",
      "2      0.0  0.0  0.0   0.002136   0.000000  0.781129  \n",
      "3      0.0  0.0  0.0   0.002899   0.000000  0.701904  \n",
      "4      0.0  0.0  0.0   0.002594   0.000000  0.661339  \n",
      "5      0.0  0.0  0.0   0.003052   0.000000  0.925430  \n",
      "6      0.0  0.0  0.0   0.006561   0.000000  0.796429  \n",
      "7      0.0  0.0  0.0   0.003052   0.000000  0.944870  \n",
      "8      0.0  0.0  0.0   0.002441   0.000000  0.739223  \n",
      "9      0.0  0.0  0.0   0.002594   0.000000  1.009161  \n",
      "10     0.0  0.0  0.0   0.007935   0.000000  1.343919  \n",
      "11     0.0  0.0  0.0   0.030212   0.000000  1.792474  \n",
      "12     0.0  0.0  0.0   0.018616   0.000000  1.946641  \n",
      "13     0.0  0.0  0.0   0.058136   0.000000  1.078978  \n",
      "14     0.0  0.0  0.0   0.006561   0.000000  0.994272  \n",
      "15     0.0  0.0  0.0   0.002289   0.000000  1.337434  \n",
      "16     0.0  0.0  0.0   0.019226   0.000000  0.978406  \n",
      "17     0.0  0.0  0.0   0.003662   0.000000  0.866262  \n",
      "18     0.0  0.0  0.0   0.002441   0.000000  0.735183  \n",
      "19     0.0  0.0  0.0   0.002899   0.000000  0.698877  \n",
      "20     0.0  0.0  0.0   0.003052   0.000000  0.759831  \n",
      "21     0.0  0.0  0.0   0.002594   0.000000  0.924261  \n",
      "22     0.0  0.0  0.0   0.006256   0.000000  0.879302  \n",
      "23     0.0  0.0  0.0   0.003662   0.000000  0.948854  \n",
      "24     0.0  0.0  0.0   0.006561   0.000000  0.868340  \n",
      "25     0.0  0.0  0.0   0.006256   0.000000  0.955287  \n",
      "26     0.0  0.0  0.0   0.005188   0.000000  0.876014  \n",
      "27     0.0  0.0  0.0   0.003510   0.000000  0.883046  \n",
      "28     0.0  0.0  0.0   0.002441   0.000000  1.107248  \n",
      "29     0.0  0.0  0.0   0.007477   0.000000  1.040626  \n",
      "...    ...  ...  ...        ...        ...       ...  \n",
      "52448  0.0  0.0  1.0   0.077972   0.454520  2.320775  \n",
      "52449  0.0  0.0  1.0   0.066681   0.487850  1.786028  \n",
      "52450  0.0  0.0  1.0   0.050507   0.521180  2.247756  \n",
      "52451  0.0  0.0  1.0   0.057526   0.554510  2.606128  \n",
      "52452  0.0  0.0  1.0   0.115967   0.587840  2.047701  \n",
      "52453  0.0  0.0  1.0   0.053101   0.621170  2.437230  \n",
      "52454  0.0  0.0  1.0   0.087585   0.654500  1.955748  \n",
      "52455  0.0  0.0  1.0   0.089111   0.687830  1.382694  \n",
      "52456  0.0  0.0  1.0   0.014496   0.721160  1.597557  \n",
      "52457  0.0  0.0  1.0   0.036469   0.754490  1.418334  \n",
      "52458  0.0  0.0  1.0   0.032959   0.787820  1.301925  \n",
      "52459  0.0  0.0  1.0   0.033417   0.821150  1.173369  \n",
      "52460  0.0  0.0  1.0   0.018005   0.854480  1.005771  \n",
      "52461  0.0  0.0  1.0   0.005798   0.887810  0.980857  \n",
      "52462  0.0  0.0  1.0   0.006866   0.921138  1.241099  \n",
      "52463  0.0  0.0  1.0   0.018311   0.954468  0.971866  \n",
      "52464  0.0  0.0  1.0   0.003815   0.987798  0.981484  \n",
      "52465  0.0  0.0  1.0   0.003357   1.021128  0.938885  \n",
      "52466  0.0  0.0  1.0   0.003662   1.054458  1.139580  \n",
      "52467  0.0  0.0  1.0   0.015564   1.087788  0.952307  \n",
      "52468  0.0  0.0  1.0   0.003510   1.121118  0.886351  \n",
      "52469  0.0  0.0  1.0   0.002594   1.154448  1.198154  \n",
      "52470  0.0  0.0  1.0   0.015411   1.187778  0.954300  \n",
      "52471  0.0  0.0  1.0   0.006409   1.221108  0.987412  \n",
      "52472  0.0  0.0  1.0   0.003510   1.254438  1.250912  \n",
      "52473  0.0  0.0  1.0   0.012512   1.287768  0.921603  \n",
      "52474  0.0  0.0  1.0   0.002899   1.321098  0.841456  \n",
      "52475  0.0  0.0  1.0   0.003204   1.354428  0.770702  \n",
      "52476  0.0  0.0  1.0   0.002441   1.387758  0.723054  \n",
      "52477  0.0  0.0  1.0   0.002441   1.421086  0.791065  \n",
      "\n",
      "[52478 rows x 13 columns]\n"
     ]
    }
   ],
   "source": [
    "print(dfcropped) # do I want to take out lastStimT ??"
   ]
  },
  {
   "cell_type": "code",
   "execution_count": 88,
   "metadata": {},
   "outputs": [
    {
     "name": "stdout",
     "output_type": "stream",
     "text": [
      "17002\n",
      "(17002, 14, 34, 16)\n",
      "<class 'numpy.ndarray'>\n",
      "Shape: (17002, 7629)\n"
     ]
    }
   ],
   "source": [
    "x_data = dfcropped.values\n",
    "print(len(x_data))\n",
    "print(whisk_encoded.shape)\n",
    "whisk_encoded_reshape = whisk_encoded.reshape((17002, 14*34*16))\n",
    "x_data = np.concatenate((x_data, whisk_encoded_reshape), axis=1)\n",
    "print(type(x_data))\n",
    "print(\"Shape:\", x_data.shape)"
   ]
  },
  {
   "cell_type": "code",
   "execution_count": 176,
   "metadata": {},
   "outputs": [],
   "source": [
    "#no whisk \n",
    "x_data = dfcropped.values"
   ]
  },
  {
   "cell_type": "code",
   "execution_count": 177,
   "metadata": {},
   "outputs": [
    {
     "name": "stdout",
     "output_type": "stream",
     "text": [
      "<class 'numpy.core.memmap.memmap'>\n",
      "Shape: (17493, 88500)\n"
     ]
    }
   ],
   "source": [
    "print(type(dycropped))\n",
    "print(\"Shape:\", dycropped.shape)"
   ]
  },
  {
   "cell_type": "code",
   "execution_count": 178,
   "metadata": {},
   "outputs": [
    {
     "name": "stdout",
     "output_type": "stream",
     "text": [
      "17493\n"
     ]
    }
   ],
   "source": [
    "num_data = len(x_data)\n",
    "print(num_data)\n",
    "train_split = 0.7\n",
    "validation_split = 0.1\n",
    "num_train = int(train_split*num_data)\n",
    "num_val = int((num_data - num_train)*validation_split)\n",
    "num_test = num_data - num_train - num_val"
   ]
  },
  {
   "cell_type": "code",
   "execution_count": 179,
   "metadata": {},
   "outputs": [
    {
     "data": {
      "text/plain": [
       "16969"
      ]
     },
     "execution_count": 179,
     "metadata": {},
     "output_type": "execute_result"
    }
   ],
   "source": [
    "x_train = x_data[0:num_train]\n",
    "x_val = x_data[num_train:(num_train+num_val)]\n",
    "x_test = x_data[(num_train+num_val):]\n",
    "len(x_train) + len(x_test)"
   ]
  },
  {
   "cell_type": "code",
   "execution_count": 180,
   "metadata": {},
   "outputs": [
    {
     "data": {
      "text/plain": [
       "16969"
      ]
     },
     "execution_count": 180,
     "metadata": {},
     "output_type": "execute_result"
    }
   ],
   "source": [
    "y_train = dycropped[0:num_train]\n",
    "y_val = dycropped[num_train:(num_train+num_val)]\n",
    "y_test = dycropped[(num_train+num_val):]\n",
    "len(y_train) + len(y_test)\n",
    "len(y_train) + len(y_test)"
   ]
  },
  {
   "cell_type": "code",
   "execution_count": 181,
   "metadata": {},
   "outputs": [
    {
     "data": {
      "text/plain": [
       "88500"
      ]
     },
     "execution_count": 181,
     "metadata": {},
     "output_type": "execute_result"
    }
   ],
   "source": [
    "num_x_signals = x_data.shape[1]\n",
    "num_x_signals\n",
    "num_y_signals = dycropped.shape[1]\n",
    "num_y_signals"
   ]
  },
  {
   "cell_type": "markdown",
   "metadata": {},
   "source": [
    "# Scaled Data"
   ]
  },
  {
   "cell_type": "code",
   "execution_count": 182,
   "metadata": {},
   "outputs": [
    {
     "name": "stdout",
     "output_type": "stream",
     "text": [
      "Min: -289.9323419861777\n",
      "Max: 40.64938735961914\n"
     ]
    }
   ],
   "source": [
    "print(\"Min:\", np.min(x_train))\n",
    "print(\"Max:\", np.max(x_train))"
   ]
  },
  {
   "cell_type": "code",
   "execution_count": 183,
   "metadata": {},
   "outputs": [
    {
     "data": {
      "text/plain": [
       "['x_scaler10hz.pkl']"
      ]
     },
     "execution_count": 183,
     "metadata": {},
     "output_type": "execute_result"
    }
   ],
   "source": [
    "x_scaler = MinMaxScaler()\n",
    "x_train_scaled = x_scaler.fit_transform(x_train)\n",
    "joblib.dump(x_scaler, \"x_scaler10hz.pkl\")"
   ]
  },
  {
   "cell_type": "code",
   "execution_count": 184,
   "metadata": {},
   "outputs": [
    {
     "name": "stdout",
     "output_type": "stream",
     "text": [
      "Min: 0.0\n",
      "Max: 1.0\n"
     ]
    }
   ],
   "source": [
    "print(\"Min:\", np.min(x_train_scaled))\n",
    "print(\"Max:\", np.max(x_train_scaled))"
   ]
  },
  {
   "cell_type": "code",
   "execution_count": 185,
   "metadata": {},
   "outputs": [],
   "source": [
    "y_val = y_val.astype(np.float32)\n",
    "y_test = y_test.astype(np.float32)\n",
    "y_train = y_train.astype(np.float32)"
   ]
  },
  {
   "cell_type": "code",
   "execution_count": 186,
   "metadata": {},
   "outputs": [],
   "source": [
    "x_test_scaled = x_scaler.transform(x_test)\n",
    "x_val_scaled = x_scaler.transform(x_val)"
   ]
  },
  {
   "cell_type": "code",
   "execution_count": 187,
   "metadata": {},
   "outputs": [
    {
     "data": {
      "text/plain": [
       "['y_scaler10hz.pkl']"
      ]
     },
     "execution_count": 187,
     "metadata": {},
     "output_type": "execute_result"
    }
   ],
   "source": [
    "y_scaler = MinMaxScaler()\n",
    "y_train_scaled = y_scaler.fit_transform(y_train)\n",
    "y_test_scaled = y_scaler.transform(y_test)\n",
    "y_val_scaled = y_scaler.transform(y_val)\n",
    "joblib.dump(y_scaler, \"y_scaler10hz.pkl\")"
   ]
  },
  {
   "cell_type": "markdown",
   "metadata": {},
   "source": [
    "# Data Generator\n",
    "useful for large amounts of data"
   ]
  },
  {
   "cell_type": "code",
   "execution_count": 126,
   "metadata": {},
   "outputs": [],
   "source": [
    "def batch_generator(batch_size, sequence_length):\n",
    "    \"\"\"\n",
    "    Generator function for creating random batches of training-data.\n",
    "    \"\"\"\n",
    "\n",
    "    # Infinite loop.\n",
    "    while True:\n",
    "        # Allocate a new array for the batch of input-signals.\n",
    "        x_shape = (batch_size, sequence_length, num_x_signals)\n",
    "        x_batch = np.zeros(shape=x_shape, dtype=np.float16)\n",
    "\n",
    "        # Allocate a new array for the batch of output-signals.\n",
    "        y_shape = (batch_size, sequence_length, num_y_signals)\n",
    "#         y_shape = (batch_size, num_y_signals)\n",
    "        y_batch = np.zeros(shape=y_shape, dtype=np.float16)\n",
    "\n",
    "        # Fill the batch with random sequences of data.\n",
    "        for i in range(batch_size):\n",
    "            # Get a random start-index.\n",
    "            # This points somewhere into the training-data.\n",
    "            idx = np.random.randint(num_train - sequence_length)\n",
    "            \n",
    "            # Copy the sequences of data starting at this index.\n",
    "            x_batch[i] = x_train_scaled[idx:idx+sequence_length]\n",
    "            y_batch[i] = y_train_scaled[idx:idx+sequence_length]\n",
    "        \n",
    "        yield (x_batch, y_batch)"
   ]
  },
  {
   "cell_type": "code",
   "execution_count": 127,
   "metadata": {},
   "outputs": [],
   "source": [
    "batch_size = 150\n",
    "sequence_length = 40 #20 frames after stim time i dont think this right come back to it"
   ]
  },
  {
   "cell_type": "code",
   "execution_count": 128,
   "metadata": {},
   "outputs": [],
   "source": [
    "generator = batch_generator(batch_size=batch_size, sequence_length=sequence_length)"
   ]
  },
  {
   "cell_type": "code",
   "execution_count": 129,
   "metadata": {},
   "outputs": [],
   "source": [
    "x_batch, y_batch = next(generator)"
   ]
  },
  {
   "cell_type": "code",
   "execution_count": 130,
   "metadata": {},
   "outputs": [
    {
     "name": "stdout",
     "output_type": "stream",
     "text": [
      "(150, 40, 13)\n",
      "(150, 40, 88500)\n"
     ]
    }
   ],
   "source": [
    "print(x_batch.shape)\n",
    "print(y_batch.shape)"
   ]
  },
  {
   "cell_type": "code",
   "execution_count": 131,
   "metadata": {},
   "outputs": [],
   "source": [
    "validation_data = (np.expand_dims(x_val_scaled, axis=0),\n",
    "                   np.expand_dims(y_val_scaled, axis=0))"
   ]
  },
  {
   "cell_type": "code",
   "execution_count": 132,
   "metadata": {},
   "outputs": [],
   "source": [
    "#make this dense layer bigger\n",
    "model = Sequential()\n",
    "model.add(LSTM(units=12,\n",
    "              return_sequences=True,\n",
    "              input_shape=(None, num_x_signals,)))\n",
    "# model.add(LSTM(units=24,\n",
    "#               return_sequences=True,\n",
    "#               input_shape=(None, num_x_signals,)))\n",
    "model.add(LSTM(units=24,\n",
    "              return_sequences=True))\n",
    "# model.add(Dense(250, activation='sigmoid'))\n",
    "# model.add(Dropout(.30))\n",
    "# model.add(Dense(200, activation='sigmoid'))\n",
    "# model.add(Dropout(.30))\n",
    "model.add(Dense(50, activation='sigmoid'))\n",
    "model.add(Dropout(.40))\n",
    "model.add(Dense(50, activation='sigmoid'))\n",
    "model.add(Dropout(.30))"
   ]
  },
  {
   "cell_type": "code",
   "execution_count": 133,
   "metadata": {},
   "outputs": [],
   "source": [
    "# squash the outputs to be between 0 and 1\n",
    "model.add(Dense(num_y_signals, activation='sigmoid'))"
   ]
  },
  {
   "cell_type": "markdown",
   "metadata": {},
   "source": [
    "\n",
    "A problem with using the Sigmoid activation function, is that we can now only output values in the same range as the training-data.\n",
    "\n",
    "For example, if the training-data only has temperatures between -20 and +30 degrees, then the scaler-object will map -20 to 0 and +30 to 1. So if we limit the output of the neural network to be between 0 and 1 using the Sigmoid function, this can only be mapped back to temperature values between -20 and +30.\n",
    "\n",
    "We can use a linear activation function on the output instead. This allows for the output to take on arbitrary values. It might work with the standard initialization for a simple network architecture, but for more complicated network architectures e.g. with more layers, it might be necessary to initialize the weights with smaller values to avoid NaN values during training. You may need to experiment with this to get it working."
   ]
  },
  {
   "cell_type": "code",
   "execution_count": 134,
   "metadata": {},
   "outputs": [],
   "source": [
    "if False:\n",
    "    from tensorflow.python.keras.initializers import RandomUniform\n",
    "\n",
    "    # Maybe use lower init-ranges.\n",
    "    init = RandomUniform(minval=-0.05, maxval=0.05)\n",
    "\n",
    "    model.add(Dense(num_y_signals,\n",
    "                    activation='linear',\n",
    "                    kernel_initializer=init))"
   ]
  },
  {
   "cell_type": "markdown",
   "metadata": {},
   "source": [
    "# Loss Function"
   ]
  },
  {
   "cell_type": "code",
   "execution_count": 135,
   "metadata": {},
   "outputs": [],
   "source": [
    "warmup_steps = 2"
   ]
  },
  {
   "cell_type": "code",
   "execution_count": 136,
   "metadata": {},
   "outputs": [],
   "source": [
    "def loss_mse_warmup(y_true, y_pred):\n",
    "    \"\"\"\n",
    "    Calculate the Mean Squared Error between y_true and y_pred,\n",
    "    but ignore the beginning \"warmup\" part of the sequences.\n",
    "    \n",
    "    y_true is the desired output.\n",
    "    y_pred is the model's output.\n",
    "    \"\"\"\n",
    "\n",
    "    # The shape of both input tensors are:\n",
    "    # [batch_size, sequence_length, num_y_signals].\n",
    "\n",
    "    # Ignore the \"warmup\" parts of the sequences\n",
    "    # by taking slices of the tensors.\n",
    "    y_true_slice = y_true[:, warmup_steps:, :]\n",
    "    y_pred_slice = y_pred[:, warmup_steps:, :]\n",
    "\n",
    "    # These sliced tensors both have this shape:\n",
    "    # [batch_size, sequence_length - warmup_steps, num_y_signals]\n",
    "\n",
    "    # Calculate the MSE loss for each value in these tensors.\n",
    "    # This outputs a 3-rank tensor of the same shape.\n",
    "    loss = tf.losses.mean_squared_error(labels=y_true_slice,\n",
    "                                        predictions=y_pred_slice)\n",
    "\n",
    "    # Keras may reduce this across the first axis (the batch)\n",
    "    # but the semantics are unclear, so to be sure we use\n",
    "    # the loss across the entire tensor, we reduce it to a\n",
    "    # single scalar with the mean function.\n",
    "    loss_mean = tf.reduce_mean(loss)\n",
    "\n",
    "    return loss_mean"
   ]
  },
  {
   "cell_type": "code",
   "execution_count": 137,
   "metadata": {},
   "outputs": [],
   "source": [
    "optimizer = RMSprop(lr=1e-3)"
   ]
  },
  {
   "cell_type": "code",
   "execution_count": 138,
   "metadata": {},
   "outputs": [],
   "source": [
    "model.compile(loss=loss_mse_warmup, optimizer=optimizer)"
   ]
  },
  {
   "cell_type": "code",
   "execution_count": 139,
   "metadata": {},
   "outputs": [
    {
     "name": "stdout",
     "output_type": "stream",
     "text": [
      "_________________________________________________________________\n",
      "Layer (type)                 Output Shape              Param #   \n",
      "=================================================================\n",
      "lstm_7 (LSTM)                (None, None, 12)          1248      \n",
      "_________________________________________________________________\n",
      "lstm_8 (LSTM)                (None, None, 24)          3552      \n",
      "_________________________________________________________________\n",
      "dense_10 (Dense)             (None, None, 50)          1250      \n",
      "_________________________________________________________________\n",
      "dropout_7 (Dropout)          (None, None, 50)          0         \n",
      "_________________________________________________________________\n",
      "dense_11 (Dense)             (None, None, 50)          2550      \n",
      "_________________________________________________________________\n",
      "dropout_8 (Dropout)          (None, None, 50)          0         \n",
      "_________________________________________________________________\n",
      "dense_12 (Dense)             (None, None, 88500)       4513500   \n",
      "=================================================================\n",
      "Total params: 4,522,100\n",
      "Trainable params: 4,522,100\n",
      "Non-trainable params: 0\n",
      "_________________________________________________________________\n"
     ]
    }
   ],
   "source": [
    "model.summary()"
   ]
  },
  {
   "cell_type": "code",
   "execution_count": 140,
   "metadata": {},
   "outputs": [],
   "source": [
    "path_checkpoint = '23_checkpoint.keras'\n",
    "callback_checkpoint = ModelCheckpoint(filepath=path_checkpoint,\n",
    "                                      monitor='val_loss',\n",
    "                                      verbose=1,\n",
    "                                      save_weights_only=True,\n",
    "                                      save_best_only=True)"
   ]
  },
  {
   "cell_type": "code",
   "execution_count": 141,
   "metadata": {},
   "outputs": [],
   "source": [
    "callback_early_stopping = EarlyStopping(monitor='val_loss',\n",
    "                                        patience=5, verbose=1)"
   ]
  },
  {
   "cell_type": "code",
   "execution_count": 142,
   "metadata": {},
   "outputs": [],
   "source": [
    "callback_tensorboard = TensorBoard(log_dir='./23_logs/',\n",
    "                                   histogram_freq=0,\n",
    "                                   write_graph=False)"
   ]
  },
  {
   "cell_type": "code",
   "execution_count": 143,
   "metadata": {},
   "outputs": [],
   "source": [
    "callback_reduce_lr = ReduceLROnPlateau(monitor='val_loss',\n",
    "                                       factor=0.1,\n",
    "                                       min_lr=1e-4,\n",
    "                                       patience=0,\n",
    "                                       verbose=1)"
   ]
  },
  {
   "cell_type": "code",
   "execution_count": 144,
   "metadata": {},
   "outputs": [],
   "source": [
    "callbacks = [callback_early_stopping,\n",
    "             callback_checkpoint,\n",
    "             callback_tensorboard,\n",
    "             callback_reduce_lr]"
   ]
  },
  {
   "cell_type": "code",
   "execution_count": 145,
   "metadata": {
    "scrolled": false
   },
   "outputs": [
    {
     "name": "stdout",
     "output_type": "stream",
     "text": [
      "Epoch 1/100\n",
      "100/100 [==============================] - 386s 4s/step - loss: 0.0202 - val_loss: 0.0161\n",
      "\n",
      "Epoch 00001: val_loss improved from inf to 0.01608, saving model to 23_checkpoint.keras\n",
      "Epoch 2/100\n",
      "100/100 [==============================] - 381s 4s/step - loss: 0.0161 - val_loss: 0.0124\n",
      "\n",
      "Epoch 00002: val_loss improved from 0.01608 to 0.01237, saving model to 23_checkpoint.keras\n",
      "Epoch 3/100\n",
      "100/100 [==============================] - 379s 4s/step - loss: 0.0140 - val_loss: 0.0115\n",
      "\n",
      "Epoch 00003: val_loss improved from 0.01237 to 0.01148, saving model to 23_checkpoint.keras\n",
      "Epoch 4/100\n",
      "100/100 [==============================] - 385s 4s/step - loss: 0.0134 - val_loss: 0.0119\n",
      "\n",
      "Epoch 00004: val_loss did not improve from 0.01148\n",
      "\n",
      "Epoch 00004: ReduceLROnPlateau reducing learning rate to 0.00010000000474974513.\n",
      "Epoch 5/100\n",
      "100/100 [==============================] - 382s 4s/step - loss: 0.0129 - val_loss: 0.0121\n",
      "\n",
      "Epoch 00005: val_loss did not improve from 0.01148\n",
      "\n",
      "Epoch 00005: ReduceLROnPlateau reducing learning rate to 0.0001.\n",
      "Epoch 6/100\n",
      "100/100 [==============================] - 380s 4s/step - loss: 0.0128 - val_loss: 0.0120\n",
      "\n",
      "Epoch 00006: val_loss did not improve from 0.01148\n",
      "Epoch 7/100\n",
      "100/100 [==============================] - 381s 4s/step - loss: 0.0127 - val_loss: 0.0120\n",
      "\n",
      "Epoch 00007: val_loss did not improve from 0.01148\n",
      "Epoch 8/100\n",
      "100/100 [==============================] - 380s 4s/step - loss: 0.0127 - val_loss: 0.0120\n",
      "\n",
      "Epoch 00008: val_loss did not improve from 0.01148\n",
      "Epoch 00008: early stopping\n",
      "CPU times: user 1h 32min 47s, sys: 5min 19s, total: 1h 38min 6s\n",
      "Wall time: 51min 3s\n"
     ]
    },
    {
     "data": {
      "text/plain": [
       "<keras.callbacks.History at 0x3efed046fe80>"
      ]
     },
     "execution_count": 145,
     "metadata": {},
     "output_type": "execute_result"
    }
   ],
   "source": [
    "%%time\n",
    "model.fit_generator(generator=generator,\n",
    "                    epochs=100,\n",
    "                    steps_per_epoch=100,\n",
    "                    validation_data=validation_data,\n",
    "                    callbacks=callbacks)"
   ]
  },
  {
   "cell_type": "code",
   "execution_count": 146,
   "metadata": {},
   "outputs": [
    {
     "name": "stdout",
     "output_type": "stream",
     "text": [
      "\r",
      "1/1 [==============================] - 5s 5s/step\n"
     ]
    }
   ],
   "source": [
    "result = model.evaluate(x=np.expand_dims(x_test_scaled[:10000], axis=0),\n",
    "                        y=np.expand_dims(y_test_scaled[:10000], axis=0))"
   ]
  },
  {
   "cell_type": "code",
   "execution_count": 215,
   "metadata": {},
   "outputs": [
    {
     "name": "stdout",
     "output_type": "stream",
     "text": [
      "float64\n"
     ]
    }
   ],
   "source": [
    "print(x_test_scaled.dtype)"
   ]
  },
  {
   "cell_type": "code",
   "execution_count": 148,
   "metadata": {},
   "outputs": [],
   "source": [
    "model.save(\"bestDRPLSTM10hzDS2.h5\")"
   ]
  },
  {
   "cell_type": "code",
   "execution_count": 147,
   "metadata": {},
   "outputs": [
    {
     "name": "stdout",
     "output_type": "stream",
     "text": [
      "loss (test-set): 0.014347607269883156\n"
     ]
    }
   ],
   "source": [
    "print(\"loss (test-set):\", result)"
   ]
  },
  {
   "cell_type": "code",
   "execution_count": 149,
   "metadata": {},
   "outputs": [],
   "source": [
    "def r2_keras(y_true, y_pred):\n",
    "    SS_res =  np.sum(np.square(np.subtract(y_true,y_pred))) \n",
    "    print(SS_res)\n",
    "    SS_tot = np.sum(np.square(np.subtract(y_true, np.mean(y_true)))) \n",
    "    print(SS_tot)\n",
    "    return ( 1 - SS_res/(SS_tot))"
   ]
  },
  {
   "cell_type": "code",
   "execution_count": 150,
   "metadata": {},
   "outputs": [],
   "source": [
    "def plot_comparison(start_idx, length=100, train=True):\n",
    "    \"\"\"\n",
    "    Plot the predicted and true output-signals.\n",
    "    \n",
    "    :param start_idx: Start-index for the time-series.\n",
    "    :param length: Sequence-length to process and plot.\n",
    "    :param train: Boolean whether to use training- or test-set.\n",
    "    \"\"\"\n",
    "    \n",
    "    if train:\n",
    "        # Use training-data.\n",
    "        x = x_train_scaled\n",
    "        y_true = y_train_scaled\n",
    "    else:\n",
    "        # Use test-data.\n",
    "        x = x_test_scaled\n",
    "        y_true = y_test_scaled\n",
    "#         x = x_val_scaled\n",
    "#         y_true = y_val_scaled\n",
    "    \n",
    "    # End-index for the sequences.\n",
    "    end_idx = start_idx + length\n",
    "    \n",
    "    # Select the sequences from the given start-index and\n",
    "    # of the given length.\n",
    "    x = x[start_idx:end_idx]\n",
    "    y_true = y_true[start_idx:end_idx]\n",
    "    \n",
    "    # Input-signals for the model.\n",
    "    x = np.expand_dims(x, axis=0)\n",
    "\n",
    "    # Use the model to predict the output-signals.\n",
    "    y_pred = model.predict(x)\n",
    "    print(\"y_pred\")\n",
    "    print(y_pred.dtype)\n",
    "    print(y_true.dtype)\n",
    "    y_true = y_true.astype(np.float32)\n",
    "    sum_pred = []\n",
    "    sum_true = []\n",
    " \n",
    "    # For each output-signal.\n",
    "    for i in range(len(x[0])):\n",
    "        sum_pred.append(np.sum(y_pred[0][i])/(lenx*leny))\n",
    "        sum_true.append(np.sum(y_true[i])/(lenx*leny))\n",
    "    # Plot and compare the two signals.\n",
    "    plt.plot(sum_true, label='true')\n",
    "    plt.plot(sum_pred, label='pred')\n",
    "    print(\"r2\")\n",
    "    print(r2_keras(y_true, y_pred[0]))\n",
    "    print(r2_score(y_true, y_pred[0], multioutput='uniform_average'))\n",
    "    print(explained_variance_score(y_true, y_pred[0],multioutput='uniform_average'))\n",
    "    # Plot grey box for warmup-period.\n",
    "\n",
    "\n",
    "    # Plot labels etc.\n",
    "    plt.ylabel(\"sum\")\n",
    "    plt.legend()\n",
    "    plt.show()"
   ]
  },
  {
   "cell_type": "code",
   "execution_count": 151,
   "metadata": {
    "scrolled": false
   },
   "outputs": [
    {
     "name": "stdout",
     "output_type": "stream",
     "text": [
      "y_pred\n",
      "float32\n",
      "float32\n",
      "r2\n",
      "916915.4\n",
      "1554867.1\n",
      "0.4102934002876282\n",
      "-0.25820514852092247\n",
      "0.11379470034844458\n"
     ]
    },
    {
     "data": {
      "image/png": "[encoded data removed]",
      "text/plain": [
       "<Figure size 432x288 with 1 Axes>"
      ]
     },
     "metadata": {
      "needs_background": "light"
     },
     "output_type": "display_data"
    }
   ],
   "source": [
    "plot_comparison(start_idx=2, length=1000, train=False)"
   ]
  },
  {
   "cell_type": "code",
   "execution_count": null,
   "metadata": {},
   "outputs": [],
   "source": []
  }
 ],
 "metadata": {
  "kernelspec": {
   "display_name": "Python 3",
   "language": "python",
   "name": "python3"
  },
  "language_info": {
   "codemirror_mode": {
    "name": "ipython",
    "version": 3
   },
   "file_extension": ".py",
   "mimetype": "text/x-python",
   "name": "python",
   "nbconvert_exporter": "python",
   "pygments_lexer": "ipython3",
   "version": "3.6.8"
  }
 },
 "nbformat": 4,
 "nbformat_minor": 2
}
