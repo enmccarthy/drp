{
 "cells": [
  {
   "cell_type": "code",
   "execution_count": 173,
   "metadata": {},
   "outputs": [],
   "source": [
    "%matplotlib inline\n",
    "import os\n",
    "os.environ[\"CUDA_DEVICE_ORDER\"]=\"PCI_BUS_ID\";\n",
    " \n",
    "# The GPU id to use, usually either \"0\" or \"1\";\n",
    "os.environ[\"CUDA_VISIBLE_DEVICES\"]=\"2\"; \n",
    "import tensorflow as tf\n",
    "import numpy as np\n",
    "import pickle\n",
    "import pandas\n",
    "import matplotlib.pyplot as plt\n",
    "from sklearn.metrics import r2_score, explained_variance_score\n",
    "from datapipe import bin_ndarray\n",
    "#TODO: read tf documentation on what the static_rnn does\n",
    "#do I want to one hot encode the data? or already too many dimensions"
   ]
  },
  {
   "cell_type": "code",
   "execution_count": 174,
   "metadata": {},
   "outputs": [],
   "source": [
    "import os\n",
    "from sklearn.preprocessing import MinMaxScaler\n",
    "from tensorflow.python.keras.models import Sequential\n",
    "from tensorflow.python.keras.layers import Input, Dense, GRU, Embedding, LSTM, Dropout\n",
    "from tensorflow.python.keras.optimizers import RMSprop\n",
    "from tensorflow.python.keras.callbacks import EarlyStopping, ModelCheckpoint, TensorBoard, ReduceLROnPlateau\n",
    "gpu_options = tf.GPUOptions(per_process_gpu_memory_fraction=0.333)"
   ]
  },
  {
   "cell_type": "code",
   "execution_count": 175,
   "metadata": {},
   "outputs": [
    {
     "data": {
      "text/plain": [
       "'1.12.0'"
      ]
     },
     "execution_count": 175,
     "metadata": {},
     "output_type": "execute_result"
    }
   ],
   "source": [
    "tf.__version__"
   ]
  },
  {
   "cell_type": "code",
   "execution_count": 230,
   "metadata": {},
   "outputs": [],
   "source": [
    "def process_dy(dy):\n",
    "    (length, y, x) = dy.shape\n",
    "    newdy = np.zeros((length, y-40, x-50), dtype=np.float16)\n",
    "    for ind, image in enumerate(dy):\n",
    "        newimg = image[1:-39, 0:-50]\n",
    "        newdy[ind] = image[1:-39, 0:-50]\n",
    "    print(newdy[0].shape)\n",
    "    return bin_dy(newdy)\n",
    "    # newdyfile = open('./dfy/cropped_AV_2.pkl', 'wb')\n",
    "#     np.save('./data/cropped_AV_5.npy', newdy)"
   ]
  },
  {
   "cell_type": "code",
   "execution_count": 231,
   "metadata": {},
   "outputs": [],
   "source": [
    "def bin_dy(dy):\n",
    "    (length, y, x) = dy.shape\n",
    "    print(dy.shape)\n",
    "    newdy = np.zeros((length, int(y/2), int(x/2)), dtype=np.float16)\n",
    "    for ind, image in enumerate(dy):\n",
    "        newdy[ind] = bin_ndarray(image, (int(y/2), int(x/2)))\n",
    "    # newdyfile = open('./dfy/bin_AV_2.pkl', 'wb')\n",
    "    print(newdy.shape)\n",
    "    return newdy"
   ]
  },
  {
   "cell_type": "code",
   "execution_count": 178,
   "metadata": {},
   "outputs": [],
   "source": [
    "# #open files, they have not been normalized yet\n",
    "# dffile = open('masdfr3m1170210s2.pkl',\"rb\")\n",
    "# dyfile = open('r3m1170210s2.pkl', \"rb\")\n",
    "# df = pickle.load(dffile)\n",
    "# df = df.drop(columns='pupilCurr', axis=1)\n",
    "# df = df.drop(columns='pupilPeri', axis=1)\n",
    "# df = df.interpolate()\n",
    "# dy = pickle.load(dyfile)\n",
    "# #dataset2\n",
    "# dffile = open('masdfr4m7170321s1.pkl',\"rb\")\n",
    "# dyfile = open('r4m7170321s1.pkl', \"rb\")\n",
    "# df = pickle.load(dffile)\n",
    "# df = df.drop(columns='pupilCurr', axis=1)\n",
    "# df = df.drop(columns='pupilPeri', axis=1)\n",
    "# df = df.interpolate()\n",
    "# dy = pickle.load(dyfile)"
   ]
  },
  {
   "cell_type": "code",
   "execution_count": 232,
   "metadata": {},
   "outputs": [],
   "source": [
    "#loading full file on disk, can access small slices without loading into memory\n",
    "dy = np.load('./data/AV_5.npy', mmap_mode='r')\n",
    "f = open('./data/delayed_masdfAV_5.pkl', 'rb')\n",
    "df = pickle.load(f)\n",
    "(length, y, x) = dy.shape"
   ]
  },
  {
   "cell_type": "code",
   "execution_count": 233,
   "metadata": {},
   "outputs": [
    {
     "name": "stdout",
     "output_type": "stream",
     "text": [
      "(600, 590)\n",
      "(5668, 600, 590)\n",
      "(5668, 300, 295)\n"
     ]
    }
   ],
   "source": [
    "#10hz data\n",
    "dfcropped = (df.iloc[::3])\n",
    "dfcropped = dfcropped[[\"stimType\", \"pupilCurr\", \"snoutCurr\",\"jawCurr\",\"wheelCurr\",\"responseT\", \"H\", \"M\", \"FA\", \"CR\",\n",
    "                 \"whiskCurr\", \"lastStimT\",\"vidCurr\"]]\n",
    "\n",
    "dycropped= (dy[::3])\n",
    "dycropped = process_dy(dycropped)\n",
    "(length, y, x) = dycropped.shape\n",
    "dycropped = dycropped.reshape(length, y*x)"
   ]
  },
  {
   "cell_type": "code",
   "execution_count": null,
   "metadata": {},
   "outputs": [],
   "source": [
    "#15hz data\n",
    "dfcropped = (df.iloc[::2])\n",
    "dfcropped = dfcropped[[\"stimType\", \"pupilCurr\", \"snoutCurr\",\"jawCurr\",\"wheelCurr\",\"responseT\", \"H\", \"M\", \"FA\", \"CR\",\n",
    "                 \"whiskCurr\", \"lastStimT\",\"vidCurr\"]]\n",
    "dycropped = (dy[::2]).reshape((length, y*x))\n",
    "(length, y, x) = dycropped.shape\n",
    "dycropped = dycropped.reshape(length, y*x)"
   ]
  },
  {
   "cell_type": "code",
   "execution_count": null,
   "metadata": {},
   "outputs": [],
   "source": [
    "#30hz data \n",
    "dfcropped = df[[\"stimType\", \"pupilCurr\", \"snoutCurr\",\"jawCurr\",\"wheelCurr\",\"responseT\", \"H\", \"M\", \"FA\", \"CR\",\n",
    "                 \"whiskCurr\", \"lastStimT\",\"vidCurr\"]]\n",
    "(length, y, x) = dy.shape\n",
    "dycropped = dy.reshape((length, y*x))"
   ]
  },
  {
   "cell_type": "code",
   "execution_count": 181,
   "metadata": {},
   "outputs": [
    {
     "name": "stdout",
     "output_type": "stream",
     "text": [
      "       stimType  pupilCurr  snoutCurr    jawCurr  wheelCurr  responseT    H  \\\n",
      "0          -1.0   0.123733   0.000000   0.000000   3.012598        0.0  0.0   \n",
      "3          -1.0   0.124481   8.953110   6.099976   3.012341        0.0  0.0   \n",
      "6          -1.0   0.125188  10.459808   5.278083   3.012161        0.0  0.0   \n",
      "9          -1.0   0.126097  10.945455  10.081639   3.012268        0.0  0.0   \n",
      "12         -1.0   0.127040  10.803827   9.550586   3.012379        0.0  0.0   \n",
      "15         -1.0   0.127959  12.018182   6.119589   3.012228        0.0  0.0   \n",
      "18         -1.0   0.127937  10.571173   5.376226   3.012129        0.0  0.0   \n",
      "21         -1.0   0.127955  13.830861   5.129235   3.011855        0.0  0.0   \n",
      "24         -1.0   0.127937  13.299163   8.392888   3.011790        0.0  0.0   \n",
      "27         -1.0   0.127760  14.285407   9.836562   3.011905        0.0  0.0   \n",
      "30         -1.0   0.127513  16.499521   8.192139   3.011774        0.0  0.0   \n",
      "33         -1.0   0.127387  12.196173   7.696404   3.011555        0.0  0.0   \n",
      "36         -1.0   0.127149  11.277034   8.311648   3.011084        0.0  0.0   \n",
      "39         -1.0   0.127356  11.798804   9.964682   3.010678        0.0  0.0   \n",
      "42         -1.0   0.127401   9.848206   8.495416   3.011146        0.0  0.0   \n",
      "45         -1.0   0.127497  11.067464   7.798932   3.011542        0.0  0.0   \n",
      "48         -1.0   0.127348  13.027273   6.154588   3.011498        0.0  0.0   \n",
      "51         -1.0   0.127137  13.462918   9.299450   3.011088        0.0  0.0   \n",
      "54         -1.0   0.126967   9.262918   7.366659   3.009925        0.0  0.0   \n",
      "57         -1.0   0.126525  11.709929   7.666188   3.008894        0.0  0.0   \n",
      "60         -1.0   0.126002  18.408852   9.947620   3.008818        0.0  0.0   \n",
      "63         -1.0   0.125447  12.093302   5.235191   3.009256        0.0  0.0   \n",
      "66         -1.0   0.124896  11.425240   5.452204   3.009347        0.0  0.0   \n",
      "69         -1.0   0.124324   8.376914   7.173244   3.008655        0.0  0.0   \n",
      "72         -1.0   0.123792  14.973445   5.119748   3.007258        0.0  0.0   \n",
      "75         -1.0   0.123425   8.942345   4.213745   3.006132        0.0  0.0   \n",
      "78         -1.0   0.123124   8.807536   6.347285   3.005360        0.0  0.0   \n",
      "81         -1.0   0.122785  11.716029   6.735470   3.004755        0.0  0.0   \n",
      "84         -1.0   0.122480  18.921890   7.436977   3.004472        0.0  0.0   \n",
      "87         -1.0   0.121825  15.340790   3.199872   3.004328        0.0  0.0   \n",
      "...         ...        ...        ...        ...        ...        ...  ...   \n",
      "16914       1.0   0.088507  11.077252  19.865219   3.003152        0.0  0.0   \n",
      "16917       1.0   0.089511   8.752308  12.947741   3.003551        0.0  0.0   \n",
      "16920       1.0   0.090813   6.958901  16.874250   3.003703        0.0  0.0   \n",
      "16923       1.0   0.091751   7.420989  20.597757   3.003687        0.0  0.0   \n",
      "16926       1.0   0.092604  11.297583  17.635336   3.003558        0.0  0.0   \n",
      "16929       1.0   0.093616   8.372087  10.872581   3.003793        0.0  0.0   \n",
      "16932       1.0   0.094664   9.360879  13.944230   3.004663        0.0  0.0   \n",
      "16935       1.0   0.095476   6.848791  19.058765   3.005732        0.0  0.0   \n",
      "16938       1.0   0.096531  10.532857  29.988615   3.006325        0.0  0.0   \n",
      "16941       1.0   0.097857   9.520550  14.080209   3.006855        0.0  0.0   \n",
      "16944       1.0   0.098908   6.142088  18.438152   3.007258        0.0  0.0   \n",
      "16947       1.0   0.100094  12.617033  13.308552   3.007506        0.0  0.0   \n",
      "16950       1.0   0.101454   5.838022  15.108072   3.008084        0.0  0.0   \n",
      "16953       1.0   0.103068  11.782417  15.551232   3.008802        0.0  0.0   \n",
      "16956       1.0   0.104944   7.912637  16.014168   3.009362        0.0  0.0   \n",
      "16959       1.0   0.106534  18.923737  17.697441   3.009710        0.0  0.0   \n",
      "16962       1.0   0.108465   8.670549  16.889017   3.009431        0.0  0.0   \n",
      "16965       1.0   0.110340   9.814945  13.564415   3.009060        0.0  0.0   \n",
      "16968       1.0   0.111472  11.536703  18.534412   3.009272        0.0  0.0   \n",
      "16971       1.0   0.112856   9.167033  19.073660   3.009356        0.0  0.0   \n",
      "16974       1.0   0.114584   8.118792  18.440891   3.009143        0.0  0.0   \n",
      "16977       1.0   0.115721  15.657473  13.352593   3.009125        0.0  0.0   \n",
      "16980       1.0   0.116489  15.752748  14.443502   3.009112        0.0  0.0   \n",
      "16983       1.0   0.117136   8.068682  26.291988   3.008771        0.0  0.0   \n",
      "16986       1.0   0.117333   8.909231  19.352894   3.008177        0.0  0.0   \n",
      "16989       1.0   0.116965  10.706373  19.245506   3.007433        0.0  0.0   \n",
      "16992       1.0   0.116381  12.627143  23.944916   3.006829        0.0  0.0   \n",
      "16995       1.0   0.115427   8.858791  11.974833   3.006063        0.0  0.0   \n",
      "16998       1.0   0.114046  12.449450  14.806155   3.005135        0.0  0.0   \n",
      "17001       1.0   0.112566  14.317472  22.092920   3.004392        0.0  0.0   \n",
      "\n",
      "         M   FA   CR  whiskCurr  lastStimT   vidCurr  \n",
      "0      0.0  0.0  0.0   0.003052   0.000000  0.000000  \n",
      "3      0.0  0.0  0.0   0.046234   0.000000  4.498124  \n",
      "6      0.0  0.0  0.0   0.159607   0.000000  4.654778  \n",
      "9      0.0  0.0  0.0   0.037231   0.000000  4.045461  \n",
      "12     0.0  0.0  0.0   0.023804   0.000000  4.228615  \n",
      "15     0.0  0.0  0.0   0.025940   0.000000  4.356034  \n",
      "18     0.0  0.0  0.0   0.141602   0.000000  5.382596  \n",
      "21     0.0  0.0  0.0   0.156708   0.000000  5.884227  \n",
      "24     0.0  0.0  0.0   0.133972   0.000000  4.155166  \n",
      "27     0.0  0.0  0.0   0.076599   0.000000  4.252287  \n",
      "30     0.0  0.0  0.0   0.085754   0.000000  4.629808  \n",
      "33     0.0  0.0  0.0   0.154572   0.000000  4.792499  \n",
      "36     0.0  0.0  0.0   0.140839   0.000000  6.244954  \n",
      "39     0.0  0.0  0.0   0.042419   0.000000  4.507607  \n",
      "42     0.0  0.0  0.0   0.051270   0.000000  4.212010  \n",
      "45     0.0  0.0  0.0   0.103760   0.000000  4.850788  \n",
      "48     0.0  0.0  0.0   0.148621   0.000000  3.607934  \n",
      "51     0.0  0.0  0.0   0.158081   0.000000  5.943700  \n",
      "54     0.0  0.0  0.0   0.135040   0.000000  5.525344  \n",
      "57     0.0  0.0  0.0   0.115204   0.000000  4.335588  \n",
      "60     0.0  0.0  0.0   0.054474   0.000000  4.604200  \n",
      "63     0.0  0.0  0.0   0.052338   0.000000  4.557161  \n",
      "66     0.0  0.0  0.0   0.079803   0.000000  4.948002  \n",
      "69     0.0  0.0  0.0   0.145721   0.000000  3.789898  \n",
      "72     0.0  0.0  0.0   0.155945   0.000000  3.490460  \n",
      "75     0.0  0.0  0.0   0.085907   0.000000  5.352250  \n",
      "78     0.0  0.0  0.0   0.119781   0.000000  2.886747  \n",
      "81     0.0  0.0  0.0   0.162201   0.000000  3.564389  \n",
      "84     0.0  0.0  0.0   0.131073   0.000000  3.462180  \n",
      "87     0.0  0.0  0.0   0.146027   0.000000  3.489516  \n",
      "...    ...  ...  ...        ...        ...       ...  \n",
      "16914  1.0  0.0  0.0   0.203247   0.852176  5.447150  \n",
      "16917  1.0  0.0  0.0   0.153503   0.952166  5.206211  \n",
      "16920  1.0  0.0  0.0   0.071869   1.052156  4.871508  \n",
      "16923  1.0  0.0  0.0   0.144196   1.152146  5.341501  \n",
      "16926  1.0  0.0  0.0   0.188446   1.252134  5.015398  \n",
      "16929  1.0  0.0  0.0   0.211639   1.352124  6.911836  \n",
      "16932  1.0  0.0  0.0   0.132294   1.452114  4.631564  \n",
      "16935  1.0  0.0  0.0   0.133209   1.552104  4.352645  \n",
      "16938  1.0  0.0  0.0   0.219116   1.652094  5.579842  \n",
      "16941  1.0  0.0  0.0   0.181427   1.752082  5.049572  \n",
      "16944  1.0  0.0  0.0   0.127563   1.852072  5.684990  \n",
      "16947  1.0  0.0  0.0   0.225983   1.952062  6.179737  \n",
      "16950  1.0  0.0  0.0   0.093689   2.052052  5.259659  \n",
      "16953  1.0  0.0  0.0   0.161133   2.152042  6.170878  \n",
      "16956  1.0  0.0  0.0   0.092621   2.252030  5.836683  \n",
      "16959  1.0  0.0  0.0   0.174408   2.352020  7.705960  \n",
      "16962  1.0  0.0  0.0   0.137634   2.452010  5.498429  \n",
      "16965  1.0  0.0  0.0   0.164337   2.552000  4.794825  \n",
      "16968  1.0  0.0  0.0   0.078430   2.651990  4.438773  \n",
      "16971  1.0  0.0  0.0   0.117493   2.751978  4.472151  \n",
      "16974  1.0  0.0  0.0   0.184326   2.851968  7.084191  \n",
      "16977  1.0  0.0  0.0   0.151978   2.951958  5.083248  \n",
      "16980  1.0  0.0  0.0   0.150604   3.051948  6.970027  \n",
      "16983  1.0  0.0  0.0   0.132904   3.151938  6.411237  \n",
      "16986  1.0  0.0  0.0   0.089264   3.251926  4.850949  \n",
      "16989  1.0  0.0  0.0   0.185852   3.351916  5.440990  \n",
      "16992  1.0  0.0  0.0   0.171051   3.451906  6.933430  \n",
      "16995  1.0  0.0  0.0   0.114746   3.551896  7.322061  \n",
      "16998  1.0  0.0  0.0   0.081329   3.651886  5.151127  \n",
      "17001  1.0  0.0  0.0   0.177155   3.751874  4.815561  \n",
      "\n",
      "[5668 rows x 13 columns]\n"
     ]
    }
   ],
   "source": [
    "print(dfcropped) # do I want to take out lastStimT ??"
   ]
  },
  {
   "cell_type": "code",
   "execution_count": 182,
   "metadata": {},
   "outputs": [
    {
     "name": "stdout",
     "output_type": "stream",
     "text": [
      "<class 'numpy.ndarray'>\n",
      "Shape: (5668, 13)\n"
     ]
    }
   ],
   "source": [
    "x_data = dfcropped.values\n",
    "print(type(x_data))\n",
    "print(\"Shape:\", x_data.shape)"
   ]
  },
  {
   "cell_type": "code",
   "execution_count": 183,
   "metadata": {},
   "outputs": [
    {
     "name": "stdout",
     "output_type": "stream",
     "text": [
      "<class 'numpy.memmap'>\n",
      "Shape: (5668, 90000)\n"
     ]
    }
   ],
   "source": [
    "print(type(dy))\n",
    "print(\"Shape:\", dycropped.shape)"
   ]
  },
  {
   "cell_type": "code",
   "execution_count": 184,
   "metadata": {},
   "outputs": [
    {
     "name": "stdout",
     "output_type": "stream",
     "text": [
      "5668\n"
     ]
    }
   ],
   "source": [
    "num_data = len(x_data)\n",
    "print(num_data)\n",
    "train_split = 0.7\n",
    "validation_split = 0.1\n",
    "num_train = int(train_split*num_data)\n",
    "num_val = int((num_data - num_train)*validation_split)\n",
    "num_test = num_data - num_train - num_val"
   ]
  },
  {
   "cell_type": "code",
   "execution_count": 185,
   "metadata": {},
   "outputs": [
    {
     "data": {
      "text/plain": [
       "5498"
      ]
     },
     "execution_count": 185,
     "metadata": {},
     "output_type": "execute_result"
    }
   ],
   "source": [
    "x_train = x_data[0:num_train]\n",
    "x_val = x_data[num_train:(num_train+num_val)]\n",
    "x_test = x_data[(num_train+num_val):]\n",
    "len(x_train) + len(x_test)"
   ]
  },
  {
   "cell_type": "code",
   "execution_count": 186,
   "metadata": {},
   "outputs": [
    {
     "data": {
      "text/plain": [
       "5498"
      ]
     },
     "execution_count": 186,
     "metadata": {},
     "output_type": "execute_result"
    }
   ],
   "source": [
    "y_train = dycropped[0:num_train]\n",
    "y_val = dycropped[num_train:(num_train+num_val)]\n",
    "y_test = dycropped[(num_train+num_val):]\n",
    "len(y_train) + len(y_test)\n",
    "len(y_train) + len(y_test)"
   ]
  },
  {
   "cell_type": "code",
   "execution_count": 187,
   "metadata": {},
   "outputs": [
    {
     "data": {
      "text/plain": [
       "90000"
      ]
     },
     "execution_count": 187,
     "metadata": {},
     "output_type": "execute_result"
    }
   ],
   "source": [
    "num_x_signals = x_data.shape[1]\n",
    "num_x_signals\n",
    "num_y_signals = dycropped.shape[1]\n",
    "num_y_signals"
   ]
  },
  {
   "cell_type": "markdown",
   "metadata": {},
   "source": [
    "# Scaled Data"
   ]
  },
  {
   "cell_type": "code",
   "execution_count": 188,
   "metadata": {},
   "outputs": [
    {
     "name": "stdout",
     "output_type": "stream",
     "text": [
      "Min: -74.37174198921315\n",
      "Max: 51.50861358642578\n"
     ]
    }
   ],
   "source": [
    "print(\"Min:\", np.min(x_train))\n",
    "print(\"Max:\", np.max(x_train))"
   ]
  },
  {
   "cell_type": "code",
   "execution_count": 189,
   "metadata": {},
   "outputs": [],
   "source": [
    "x_scaler = MinMaxScaler()\n",
    "x_train_scaled = x_scaler.fit_transform(x_train)"
   ]
  },
  {
   "cell_type": "code",
   "execution_count": 190,
   "metadata": {},
   "outputs": [
    {
     "name": "stdout",
     "output_type": "stream",
     "text": [
      "Min: 0.0\n",
      "Max: 1.0\n"
     ]
    }
   ],
   "source": [
    "print(\"Min:\", np.min(x_train_scaled))\n",
    "print(\"Max:\", np.max(x_train_scaled))"
   ]
  },
  {
   "cell_type": "code",
   "execution_count": 191,
   "metadata": {},
   "outputs": [],
   "source": [
    "x_test_scaled = x_scaler.transform(x_test)\n",
    "x_val_scaled = x_scaler.transform(x_val)"
   ]
  },
  {
   "cell_type": "code",
   "execution_count": 192,
   "metadata": {},
   "outputs": [
    {
     "name": "stderr",
     "output_type": "stream",
     "text": [
      "/home/users/emccarth/.local/lib/python3.6/site-packages/numpy/core/_methods.py:36: RuntimeWarning: overflow encountered in reduce\n",
      "  return umr_sum(a, axis, dtype, out, keepdims, initial)\n",
      "/home/users/emccarth/.local/lib/python3.6/site-packages/numpy/core/_methods.py:36: RuntimeWarning: overflow encountered in reduce\n",
      "  return umr_sum(a, axis, dtype, out, keepdims, initial)\n",
      "/home/users/emccarth/.local/lib/python3.6/site-packages/numpy/core/_methods.py:36: RuntimeWarning: overflow encountered in reduce\n",
      "  return umr_sum(a, axis, dtype, out, keepdims, initial)\n",
      "/home/users/emccarth/.local/lib/python3.6/site-packages/numpy/core/_methods.py:36: RuntimeWarning: overflow encountered in reduce\n",
      "  return umr_sum(a, axis, dtype, out, keepdims, initial)\n"
     ]
    }
   ],
   "source": [
    "y_scaler = MinMaxScaler()\n",
    "y_train_scaled = y_scaler.fit_transform(y_train)\n",
    "y_test_scaled = y_scaler.transform(y_test)\n",
    "y_val_scaled = y_scaler.transform(y_val)"
   ]
  },
  {
   "cell_type": "markdown",
   "metadata": {},
   "source": [
    "# Data Generator\n",
    "useful for large amounts of data"
   ]
  },
  {
   "cell_type": "code",
   "execution_count": 193,
   "metadata": {},
   "outputs": [],
   "source": [
    "def batch_generator(batch_size, sequence_length):\n",
    "    \"\"\"\n",
    "    Generator function for creating random batches of training-data.\n",
    "    \"\"\"\n",
    "\n",
    "    # Infinite loop.\n",
    "    while True:\n",
    "        # Allocate a new array for the batch of input-signals.\n",
    "        x_shape = (batch_size, sequence_length, num_x_signals)\n",
    "        x_batch = np.zeros(shape=x_shape, dtype=np.float16)\n",
    "\n",
    "        # Allocate a new array for the batch of output-signals.\n",
    "        y_shape = (batch_size, sequence_length, num_y_signals)\n",
    "#         y_shape = (batch_size, num_y_signals)\n",
    "        y_batch = np.zeros(shape=y_shape, dtype=np.float16)\n",
    "\n",
    "        # Fill the batch with random sequences of data.\n",
    "        for i in range(batch_size):\n",
    "            # Get a random start-index.\n",
    "            # This points somewhere into the training-data.\n",
    "            idx = np.random.randint(num_train - sequence_length)\n",
    "            \n",
    "            # Copy the sequences of data starting at this index.\n",
    "            x_batch[i] = x_train_scaled[idx:idx+sequence_length]\n",
    "            y_batch[i] = y_train_scaled[idx:idx+sequence_length]\n",
    "        \n",
    "        yield (x_batch, y_batch)"
   ]
  },
  {
   "cell_type": "code",
   "execution_count": 195,
   "metadata": {},
   "outputs": [],
   "source": [
    "batch_size = 100\n",
    "sequence_length = 20 #20 frames after stim time i dont think this right come back to it"
   ]
  },
  {
   "cell_type": "code",
   "execution_count": 196,
   "metadata": {},
   "outputs": [],
   "source": [
    "generator = batch_generator(batch_size=batch_size, sequence_length=sequence_length)"
   ]
  },
  {
   "cell_type": "code",
   "execution_count": 197,
   "metadata": {},
   "outputs": [],
   "source": [
    "x_batch, y_batch = next(generator)"
   ]
  },
  {
   "cell_type": "code",
   "execution_count": 198,
   "metadata": {},
   "outputs": [
    {
     "name": "stdout",
     "output_type": "stream",
     "text": [
      "(100, 20, 13)\n",
      "(100, 20, 90000)\n"
     ]
    }
   ],
   "source": [
    "print(x_batch.shape)\n",
    "print(y_batch.shape)"
   ]
  },
  {
   "cell_type": "code",
   "execution_count": 199,
   "metadata": {},
   "outputs": [],
   "source": [
    "validation_data = (np.expand_dims(x_val_scaled, axis=0),\n",
    "                   np.expand_dims(y_val_scaled, axis=0))"
   ]
  },
  {
   "cell_type": "code",
   "execution_count": 222,
   "metadata": {},
   "outputs": [],
   "source": [
    "model = Sequential()\n",
    "model.add(LSTM(units=12,\n",
    "              return_sequences=True,\n",
    "              input_shape=(None, num_x_signals,)))\n",
    "# model.add(LSTM(units=12,\n",
    "#               return_sequences=True))\n",
    "\n",
    "model.add(Dense(120, activation='sigmoid'))\n",
    "model.add(Dropout(.15))"
   ]
  },
  {
   "cell_type": "code",
   "execution_count": 223,
   "metadata": {},
   "outputs": [],
   "source": [
    "# squash the outputs to be between 0 and 1\n",
    "model.add(Dense(num_y_signals, activation='sigmoid'))"
   ]
  },
  {
   "cell_type": "markdown",
   "metadata": {},
   "source": [
    "\n",
    "A problem with using the Sigmoid activation function, is that we can now only output values in the same range as the training-data.\n",
    "\n",
    "For example, if the training-data only has temperatures between -20 and +30 degrees, then the scaler-object will map -20 to 0 and +30 to 1. So if we limit the output of the neural network to be between 0 and 1 using the Sigmoid function, this can only be mapped back to temperature values between -20 and +30.\n",
    "\n",
    "We can use a linear activation function on the output instead. This allows for the output to take on arbitrary values. It might work with the standard initialization for a simple network architecture, but for more complicated network architectures e.g. with more layers, it might be necessary to initialize the weights with smaller values to avoid NaN values during training. You may need to experiment with this to get it working."
   ]
  },
  {
   "cell_type": "code",
   "execution_count": 224,
   "metadata": {},
   "outputs": [],
   "source": [
    "if False:\n",
    "    from tensorflow.python.keras.initializers import RandomUniform\n",
    "\n",
    "    # Maybe use lower init-ranges.\n",
    "    init = RandomUniform(minval=-0.05, maxval=0.05)\n",
    "\n",
    "    model.add(Dense(num_y_signals,\n",
    "                    activation='linear',\n",
    "                    kernel_initializer=init))"
   ]
  },
  {
   "cell_type": "markdown",
   "metadata": {},
   "source": [
    "# Loss Function"
   ]
  },
  {
   "cell_type": "code",
   "execution_count": 225,
   "metadata": {},
   "outputs": [],
   "source": [
    "warmup_steps = 2"
   ]
  },
  {
   "cell_type": "code",
   "execution_count": 226,
   "metadata": {},
   "outputs": [],
   "source": [
    "def loss_mse_warmup(y_true, y_pred):\n",
    "    \"\"\"\n",
    "    Calculate the Mean Squared Error between y_true and y_pred,\n",
    "    but ignore the beginning \"warmup\" part of the sequences.\n",
    "    \n",
    "    y_true is the desired output.\n",
    "    y_pred is the model's output.\n",
    "    \"\"\"\n",
    "\n",
    "    # The shape of both input tensors are:\n",
    "    # [batch_size, sequence_length, num_y_signals].\n",
    "\n",
    "    # Ignore the \"warmup\" parts of the sequences\n",
    "    # by taking slices of the tensors.\n",
    "    y_true_slice = y_true[:, warmup_steps:, :]\n",
    "    y_pred_slice = y_pred[:, warmup_steps:, :]\n",
    "\n",
    "    # These sliced tensors both have this shape:\n",
    "    # [batch_size, sequence_length - warmup_steps, num_y_signals]\n",
    "\n",
    "    # Calculate the MSE loss for each value in these tensors.\n",
    "    # This outputs a 3-rank tensor of the same shape.\n",
    "    loss = tf.losses.mean_squared_error(labels=y_true_slice,\n",
    "                                        predictions=y_pred_slice)\n",
    "\n",
    "    # Keras may reduce this across the first axis (the batch)\n",
    "    # but the semantics are unclear, so to be sure we use\n",
    "    # the loss across the entire tensor, we reduce it to a\n",
    "    # single scalar with the mean function.\n",
    "    loss_mean = tf.reduce_mean(loss)\n",
    "\n",
    "    return loss_mean"
   ]
  },
  {
   "cell_type": "code",
   "execution_count": 227,
   "metadata": {},
   "outputs": [],
   "source": [
    "optimizer = RMSprop(lr=1e-3)"
   ]
  },
  {
   "cell_type": "code",
   "execution_count": 228,
   "metadata": {},
   "outputs": [],
   "source": [
    "model.compile(loss=loss_mse_warmup, optimizer=optimizer)"
   ]
  },
  {
   "cell_type": "code",
   "execution_count": 229,
   "metadata": {},
   "outputs": [
    {
     "name": "stdout",
     "output_type": "stream",
     "text": [
      "_________________________________________________________________\n",
      "Layer (type)                 Output Shape              Param #   \n",
      "=================================================================\n",
      "lstm_8 (LSTM)                (None, None, 12)          1248      \n",
      "_________________________________________________________________\n",
      "dense_11 (Dense)             (None, None, 120)         1560      \n",
      "_________________________________________________________________\n",
      "dropout_7 (Dropout)          (None, None, 120)         0         \n",
      "_________________________________________________________________\n",
      "dense_12 (Dense)             (None, None, 90000)       10890000  \n",
      "=================================================================\n",
      "Total params: 10,892,808\n",
      "Trainable params: 10,892,808\n",
      "Non-trainable params: 0\n",
      "_________________________________________________________________\n"
     ]
    }
   ],
   "source": [
    "model.summary()"
   ]
  },
  {
   "cell_type": "code",
   "execution_count": 216,
   "metadata": {},
   "outputs": [],
   "source": [
    "path_checkpoint = '23_checkpoint.keras'\n",
    "callback_checkpoint = ModelCheckpoint(filepath=path_checkpoint,\n",
    "                                      monitor='val_loss',\n",
    "                                      verbose=1,\n",
    "                                      save_weights_only=True,\n",
    "                                      save_best_only=True)"
   ]
  },
  {
   "cell_type": "code",
   "execution_count": 217,
   "metadata": {},
   "outputs": [],
   "source": [
    "callback_early_stopping = EarlyStopping(monitor='val_loss',\n",
    "                                        patience=5, verbose=1)"
   ]
  },
  {
   "cell_type": "code",
   "execution_count": 218,
   "metadata": {},
   "outputs": [],
   "source": [
    "callback_tensorboard = TensorBoard(log_dir='./23_logs/',\n",
    "                                   histogram_freq=0,\n",
    "                                   write_graph=False)"
   ]
  },
  {
   "cell_type": "code",
   "execution_count": 219,
   "metadata": {},
   "outputs": [],
   "source": [
    "callback_reduce_lr = ReduceLROnPlateau(monitor='val_loss',\n",
    "                                       factor=0.1,\n",
    "                                       min_lr=1e-4,\n",
    "                                       patience=0,\n",
    "                                       verbose=1)"
   ]
  },
  {
   "cell_type": "code",
   "execution_count": 220,
   "metadata": {},
   "outputs": [],
   "source": [
    "callbacks = [callback_early_stopping,\n",
    "             callback_checkpoint,\n",
    "             callback_tensorboard,\n",
    "             callback_reduce_lr]"
   ]
  },
  {
   "cell_type": "code",
   "execution_count": 221,
   "metadata": {},
   "outputs": [
    {
     "name": "stdout",
     "output_type": "stream",
     "text": [
      "Epoch 1/100\n"
     ]
    },
    {
     "ename": "InternalError",
     "evalue": "Dst tensor is not initialized.\n\t [[{{node _arg_dense_10_target_0_1/_341}} = _Recv[client_terminated=false, recv_device=\"/job:localhost/replica:0/task:0/device:GPU:0\", send_device=\"/job:localhost/replica:0/task:0/device:CPU:0\", send_device_incarnation=1, tensor_name=\"edge_3356__arg_dense_10_target_0_1\", tensor_type=DT_FLOAT, _device=\"/job:localhost/replica:0/task:0/device:GPU:0\"]()]]\n\t [[{{node loss_3/mul/_377}} = _Recv[client_terminated=false, recv_device=\"/job:localhost/replica:0/task:0/device:CPU:0\", send_device=\"/job:localhost/replica:0/task:0/device:GPU:0\", send_device_incarnation=1, tensor_name=\"edge_3362_loss_3/mul\", tensor_type=DT_FLOAT, _device=\"/job:localhost/replica:0/task:0/device:CPU:0\"]()]]",
     "output_type": "error",
     "traceback": [
      "\u001b[0;31m---------------------------------------------------------------------------\u001b[0m",
      "\u001b[0;31mInternalError\u001b[0m                             Traceback (most recent call last)",
      "\u001b[0;32m<timed eval>\u001b[0m in \u001b[0;36m<module>\u001b[0;34m\u001b[0m\n",
      "\u001b[0;32m/usr/local/lib/python3.6/dist-packages/tensorflow/python/keras/engine/training.py\u001b[0m in \u001b[0;36mfit_generator\u001b[0;34m(self, generator, steps_per_epoch, epochs, verbose, callbacks, validation_data, validation_steps, class_weight, max_queue_size, workers, use_multiprocessing, shuffle, initial_epoch)\u001b[0m\n\u001b[1;32m   2175\u001b[0m         \u001b[0muse_multiprocessing\u001b[0m\u001b[0;34m=\u001b[0m\u001b[0muse_multiprocessing\u001b[0m\u001b[0;34m,\u001b[0m\u001b[0;34m\u001b[0m\u001b[0;34m\u001b[0m\u001b[0m\n\u001b[1;32m   2176\u001b[0m         \u001b[0mshuffle\u001b[0m\u001b[0;34m=\u001b[0m\u001b[0mshuffle\u001b[0m\u001b[0;34m,\u001b[0m\u001b[0;34m\u001b[0m\u001b[0;34m\u001b[0m\u001b[0m\n\u001b[0;32m-> 2177\u001b[0;31m         initial_epoch=initial_epoch)\n\u001b[0m\u001b[1;32m   2178\u001b[0m \u001b[0;34m\u001b[0m\u001b[0m\n\u001b[1;32m   2179\u001b[0m   def evaluate_generator(self,\n",
      "\u001b[0;32m/usr/local/lib/python3.6/dist-packages/tensorflow/python/keras/engine/training_generator.py\u001b[0m in \u001b[0;36mfit_generator\u001b[0;34m(model, generator, steps_per_epoch, epochs, verbose, callbacks, validation_data, validation_steps, class_weight, max_queue_size, workers, use_multiprocessing, shuffle, initial_epoch)\u001b[0m\n\u001b[1;32m    174\u001b[0m \u001b[0;34m\u001b[0m\u001b[0m\n\u001b[1;32m    175\u001b[0m         outs = model.train_on_batch(\n\u001b[0;32m--> 176\u001b[0;31m             x, y, sample_weight=sample_weight, class_weight=class_weight)\n\u001b[0m\u001b[1;32m    177\u001b[0m \u001b[0;34m\u001b[0m\u001b[0m\n\u001b[1;32m    178\u001b[0m         \u001b[0;32mif\u001b[0m \u001b[0;32mnot\u001b[0m \u001b[0misinstance\u001b[0m\u001b[0;34m(\u001b[0m\u001b[0mouts\u001b[0m\u001b[0;34m,\u001b[0m \u001b[0mlist\u001b[0m\u001b[0;34m)\u001b[0m\u001b[0;34m:\u001b[0m\u001b[0;34m\u001b[0m\u001b[0;34m\u001b[0m\u001b[0m\n",
      "\u001b[0;32m/usr/local/lib/python3.6/dist-packages/tensorflow/python/keras/engine/training.py\u001b[0m in \u001b[0;36mtrain_on_batch\u001b[0;34m(self, x, y, sample_weight, class_weight)\u001b[0m\n\u001b[1;32m   1938\u001b[0m \u001b[0;34m\u001b[0m\u001b[0m\n\u001b[1;32m   1939\u001b[0m       \u001b[0mself\u001b[0m\u001b[0;34m.\u001b[0m\u001b[0m_make_train_function\u001b[0m\u001b[0;34m(\u001b[0m\u001b[0;34m)\u001b[0m\u001b[0;34m\u001b[0m\u001b[0;34m\u001b[0m\u001b[0m\n\u001b[0;32m-> 1940\u001b[0;31m       \u001b[0moutputs\u001b[0m \u001b[0;34m=\u001b[0m \u001b[0mself\u001b[0m\u001b[0;34m.\u001b[0m\u001b[0mtrain_function\u001b[0m\u001b[0;34m(\u001b[0m\u001b[0mins\u001b[0m\u001b[0;34m)\u001b[0m\u001b[0;34m\u001b[0m\u001b[0;34m\u001b[0m\u001b[0m\n\u001b[0m\u001b[1;32m   1941\u001b[0m \u001b[0;34m\u001b[0m\u001b[0m\n\u001b[1;32m   1942\u001b[0m     \u001b[0;32mif\u001b[0m \u001b[0mlen\u001b[0m\u001b[0;34m(\u001b[0m\u001b[0moutputs\u001b[0m\u001b[0;34m)\u001b[0m \u001b[0;34m==\u001b[0m \u001b[0;36m1\u001b[0m\u001b[0;34m:\u001b[0m\u001b[0;34m\u001b[0m\u001b[0;34m\u001b[0m\u001b[0m\n",
      "\u001b[0;32m/usr/local/lib/python3.6/dist-packages/tensorflow/python/keras/backend.py\u001b[0m in \u001b[0;36m__call__\u001b[0;34m(self, inputs)\u001b[0m\n\u001b[1;32m   2984\u001b[0m \u001b[0;34m\u001b[0m\u001b[0m\n\u001b[1;32m   2985\u001b[0m     fetched = self._callable_fn(*array_vals,\n\u001b[0;32m-> 2986\u001b[0;31m                                 run_metadata=self.run_metadata)\n\u001b[0m\u001b[1;32m   2987\u001b[0m     \u001b[0mself\u001b[0m\u001b[0;34m.\u001b[0m\u001b[0m_call_fetch_callbacks\u001b[0m\u001b[0;34m(\u001b[0m\u001b[0mfetched\u001b[0m\u001b[0;34m[\u001b[0m\u001b[0;34m-\u001b[0m\u001b[0mlen\u001b[0m\u001b[0;34m(\u001b[0m\u001b[0mself\u001b[0m\u001b[0;34m.\u001b[0m\u001b[0m_fetches\u001b[0m\u001b[0;34m)\u001b[0m\u001b[0;34m:\u001b[0m\u001b[0;34m]\u001b[0m\u001b[0;34m)\u001b[0m\u001b[0;34m\u001b[0m\u001b[0;34m\u001b[0m\u001b[0m\n\u001b[1;32m   2988\u001b[0m     \u001b[0;32mreturn\u001b[0m \u001b[0mfetched\u001b[0m\u001b[0;34m[\u001b[0m\u001b[0;34m:\u001b[0m\u001b[0mlen\u001b[0m\u001b[0;34m(\u001b[0m\u001b[0mself\u001b[0m\u001b[0;34m.\u001b[0m\u001b[0moutputs\u001b[0m\u001b[0;34m)\u001b[0m\u001b[0;34m]\u001b[0m\u001b[0;34m\u001b[0m\u001b[0;34m\u001b[0m\u001b[0m\n",
      "\u001b[0;32m/usr/local/lib/python3.6/dist-packages/tensorflow/python/client/session.py\u001b[0m in \u001b[0;36m__call__\u001b[0;34m(self, *args, **kwargs)\u001b[0m\n\u001b[1;32m   1437\u001b[0m           ret = tf_session.TF_SessionRunCallable(\n\u001b[1;32m   1438\u001b[0m               \u001b[0mself\u001b[0m\u001b[0;34m.\u001b[0m\u001b[0m_session\u001b[0m\u001b[0;34m.\u001b[0m\u001b[0m_session\u001b[0m\u001b[0;34m,\u001b[0m \u001b[0mself\u001b[0m\u001b[0;34m.\u001b[0m\u001b[0m_handle\u001b[0m\u001b[0;34m,\u001b[0m \u001b[0margs\u001b[0m\u001b[0;34m,\u001b[0m \u001b[0mstatus\u001b[0m\u001b[0;34m,\u001b[0m\u001b[0;34m\u001b[0m\u001b[0;34m\u001b[0m\u001b[0m\n\u001b[0;32m-> 1439\u001b[0;31m               run_metadata_ptr)\n\u001b[0m\u001b[1;32m   1440\u001b[0m         \u001b[0;32mif\u001b[0m \u001b[0mrun_metadata\u001b[0m\u001b[0;34m:\u001b[0m\u001b[0;34m\u001b[0m\u001b[0;34m\u001b[0m\u001b[0m\n\u001b[1;32m   1441\u001b[0m           \u001b[0mproto_data\u001b[0m \u001b[0;34m=\u001b[0m \u001b[0mtf_session\u001b[0m\u001b[0;34m.\u001b[0m\u001b[0mTF_GetBuffer\u001b[0m\u001b[0;34m(\u001b[0m\u001b[0mrun_metadata_ptr\u001b[0m\u001b[0;34m)\u001b[0m\u001b[0;34m\u001b[0m\u001b[0;34m\u001b[0m\u001b[0m\n",
      "\u001b[0;32m/usr/local/lib/python3.6/dist-packages/tensorflow/python/framework/errors_impl.py\u001b[0m in \u001b[0;36m__exit__\u001b[0;34m(self, type_arg, value_arg, traceback_arg)\u001b[0m\n\u001b[1;32m    526\u001b[0m             \u001b[0;32mNone\u001b[0m\u001b[0;34m,\u001b[0m \u001b[0;32mNone\u001b[0m\u001b[0;34m,\u001b[0m\u001b[0;34m\u001b[0m\u001b[0;34m\u001b[0m\u001b[0m\n\u001b[1;32m    527\u001b[0m             \u001b[0mcompat\u001b[0m\u001b[0;34m.\u001b[0m\u001b[0mas_text\u001b[0m\u001b[0;34m(\u001b[0m\u001b[0mc_api\u001b[0m\u001b[0;34m.\u001b[0m\u001b[0mTF_Message\u001b[0m\u001b[0;34m(\u001b[0m\u001b[0mself\u001b[0m\u001b[0;34m.\u001b[0m\u001b[0mstatus\u001b[0m\u001b[0;34m.\u001b[0m\u001b[0mstatus\u001b[0m\u001b[0;34m)\u001b[0m\u001b[0;34m)\u001b[0m\u001b[0;34m,\u001b[0m\u001b[0;34m\u001b[0m\u001b[0;34m\u001b[0m\u001b[0m\n\u001b[0;32m--> 528\u001b[0;31m             c_api.TF_GetCode(self.status.status))\n\u001b[0m\u001b[1;32m    529\u001b[0m     \u001b[0;31m# Delete the underlying status object from memory otherwise it stays alive\u001b[0m\u001b[0;34m\u001b[0m\u001b[0;34m\u001b[0m\u001b[0;34m\u001b[0m\u001b[0m\n\u001b[1;32m    530\u001b[0m     \u001b[0;31m# as there is a reference to status from this from the traceback due to\u001b[0m\u001b[0;34m\u001b[0m\u001b[0;34m\u001b[0m\u001b[0;34m\u001b[0m\u001b[0m\n",
      "\u001b[0;31mInternalError\u001b[0m: Dst tensor is not initialized.\n\t [[{{node _arg_dense_10_target_0_1/_341}} = _Recv[client_terminated=false, recv_device=\"/job:localhost/replica:0/task:0/device:GPU:0\", send_device=\"/job:localhost/replica:0/task:0/device:CPU:0\", send_device_incarnation=1, tensor_name=\"edge_3356__arg_dense_10_target_0_1\", tensor_type=DT_FLOAT, _device=\"/job:localhost/replica:0/task:0/device:GPU:0\"]()]]\n\t [[{{node loss_3/mul/_377}} = _Recv[client_terminated=false, recv_device=\"/job:localhost/replica:0/task:0/device:CPU:0\", send_device=\"/job:localhost/replica:0/task:0/device:GPU:0\", send_device_incarnation=1, tensor_name=\"edge_3362_loss_3/mul\", tensor_type=DT_FLOAT, _device=\"/job:localhost/replica:0/task:0/device:CPU:0\"]()]]"
     ]
    }
   ],
   "source": [
    "%%time\n",
    "model.fit_generator(generator=generator,\n",
    "                    epochs=100,\n",
    "                    steps_per_epoch=100,\n",
    "                    validation_data=validation_data,\n",
    "                    callbacks=callbacks)"
   ]
  },
  {
   "cell_type": "code",
   "execution_count": 50,
   "metadata": {},
   "outputs": [
    {
     "name": "stdout",
     "output_type": "stream",
     "text": [
      "\r",
      "1/1 [==============================] - 5s 5s/step\n"
     ]
    }
   ],
   "source": [
    "result = model.evaluate(x=np.expand_dims(x_test_scaled, axis=0),\n",
    "                        y=np.expand_dims(y_test_scaled, axis=0))"
   ]
  },
  {
   "cell_type": "code",
   "execution_count": 48,
   "metadata": {},
   "outputs": [],
   "source": [
    "model.save(\"newDRPLSTM.h5\")"
   ]
  },
  {
   "cell_type": "code",
   "execution_count": 51,
   "metadata": {},
   "outputs": [
    {
     "name": "stdout",
     "output_type": "stream",
     "text": [
      "loss (test-set): 0.02115558832883835\n"
     ]
    }
   ],
   "source": [
    "print(\"loss (test-set):\", result)"
   ]
  },
  {
   "cell_type": "code",
   "execution_count": 88,
   "metadata": {},
   "outputs": [],
   "source": [
    "def r2_keras(y_true, y_pred):\n",
    "    SS_res =  np.sum(np.square(np.subtract(y_true,y_pred))) \n",
    "    SS_tot = np.sum(np.square(np.subtract(y_true, np.mean(y_true)))) \n",
    "    return ( 1 - SS_res/(SS_tot))"
   ]
  },
  {
   "cell_type": "code",
   "execution_count": 54,
   "metadata": {},
   "outputs": [],
   "source": [
    "def plot_comparison(start_idx, length=100, train=True):\n",
    "    \"\"\"\n",
    "    Plot the predicted and true output-signals.\n",
    "    \n",
    "    :param start_idx: Start-index for the time-series.\n",
    "    :param length: Sequence-length to process and plot.\n",
    "    :param train: Boolean whether to use training- or test-set.\n",
    "    \"\"\"\n",
    "    \n",
    "    if train:\n",
    "        # Use training-data.\n",
    "        x = x_train_scaled\n",
    "        y_true = y_train_scaled\n",
    "    else:\n",
    "        # Use test-data.\n",
    "        x = x_test_scaled\n",
    "        y_true = y_test_scaled \n",
    "    \n",
    "    # End-index for the sequences.\n",
    "    end_idx = start_idx + length\n",
    "    \n",
    "    # Select the sequences from the given start-index and\n",
    "    # of the given length.\n",
    "    x = x[start_idx:end_idx]\n",
    "    y_true = y_true[start_idx:end_idx]\n",
    "    \n",
    "    # Input-signals for the model.\n",
    "    x = np.expand_dims(x, axis=0)\n",
    "\n",
    "    # Use the model to predict the output-signals.\n",
    "    y_pred = model.predict(x)\n",
    "    print(\"y_pred\")\n",
    "    print(y_pred)\n",
    "    print(y_true)\n",
    "    \n",
    "    sum_pred = []\n",
    "    sum_true = []\n",
    " \n",
    "    # For each output-signal.\n",
    "    for i in range(len(x[0])):\n",
    "        sum_pred.append(np.sum(y_pred[0][i])/(172*130))\n",
    "        sum_true.append(np.sum(y_true[i])/(172*130))\n",
    "    # Plot and compare the two signals.\n",
    "    plt.plot(sum_true[0:1200], label='true')\n",
    "    plt.plot(sum_pred[0:1200], label='pred')\n",
    "    print(\"r2\")\n",
    "    print(r2_keras(y_true, y_pred))\n",
    "#     print(explained_variance_score(y_true, y_pred,multioutput='uniform_average'))\n",
    "    # Plot grey box for warmup-period.\n",
    "\n",
    "\n",
    "    # Plot labels etc.\n",
    "    plt.ylabel(\"sum\")\n",
    "    plt.legend()\n",
    "    plt.show()"
   ]
  },
  {
   "cell_type": "code",
   "execution_count": 55,
   "metadata": {
    "scrolled": true
   },
   "outputs": [
    {
     "name": "stdout",
     "output_type": "stream",
     "text": [
      "y_pred\n",
      "[[[0.33831537 0.34188545 0.3466005  ... 0.45274094 0.4633157  0.4701178 ]\n",
      "  [0.32034802 0.324049   0.32862058 ... 0.4455052  0.45749348 0.46538132]\n",
      "  [0.31116375 0.31496337 0.31940985 ... 0.44202247 0.45476776 0.46321568]\n",
      "  ...\n",
      "  [0.5179763  0.5221691  0.5263622  ... 0.5474371  0.54577905 0.5424955 ]\n",
      "  [0.51147044 0.51562977 0.51985925 ... 0.54358613 0.54237264 0.5394511 ]\n",
      "  [0.532296   0.5365514  0.5406471  ... 0.5560135  0.5533817  0.549296  ]]]\n",
      "[[0.24186508 0.2488858  0.2578115  ... 0.25872546 0.273159   0.28871253]\n",
      " [0.30093133 0.29000366 0.2878243  ... 0.33484882 0.35250774 0.37096626]\n",
      " [0.251375   0.2565849  0.26501787 ... 0.38877484 0.4000838  0.4038033 ]\n",
      " ...\n",
      " [0.27327976 0.27818346 0.2902426  ... 0.26731533 0.28064057 0.29326302]\n",
      " [0.23920445 0.26033956 0.2855417  ... 0.29589054 0.31415164 0.32885873]\n",
      " [0.295517   0.29968524 0.30706197 ... 0.37501454 0.4080769  0.43659845]]\n",
      "r2\n"
     ]
    },
    {
     "ename": "NameError",
     "evalue": "name 'r2_keras' is not defined",
     "output_type": "error",
     "traceback": [
      "\u001b[0;31m---------------------------------------------------------------------------\u001b[0m",
      "\u001b[0;31mNameError\u001b[0m                                 Traceback (most recent call last)",
      "\u001b[0;32m<ipython-input-55-6ba20ce28b13>\u001b[0m in \u001b[0;36m<module>\u001b[0;34m\u001b[0m\n\u001b[0;32m----> 1\u001b[0;31m \u001b[0mplot_comparison\u001b[0m\u001b[0;34m(\u001b[0m\u001b[0mstart_idx\u001b[0m\u001b[0;34m=\u001b[0m\u001b[0;36m2\u001b[0m\u001b[0;34m,\u001b[0m \u001b[0mlength\u001b[0m\u001b[0;34m=\u001b[0m\u001b[0;36m4000\u001b[0m\u001b[0;34m,\u001b[0m \u001b[0mtrain\u001b[0m\u001b[0;34m=\u001b[0m\u001b[0;32mFalse\u001b[0m\u001b[0;34m)\u001b[0m\u001b[0;34m\u001b[0m\u001b[0;34m\u001b[0m\u001b[0m\n\u001b[0m",
      "\u001b[0;32m<ipython-input-54-3af0fa8b0d23>\u001b[0m in \u001b[0;36mplot_comparison\u001b[0;34m(start_idx, length, train)\u001b[0m\n\u001b[1;32m     45\u001b[0m     \u001b[0mplt\u001b[0m\u001b[0;34m.\u001b[0m\u001b[0mplot\u001b[0m\u001b[0;34m(\u001b[0m\u001b[0msum_pred\u001b[0m\u001b[0;34m[\u001b[0m\u001b[0;36m0\u001b[0m\u001b[0;34m:\u001b[0m\u001b[0;36m1200\u001b[0m\u001b[0;34m]\u001b[0m\u001b[0;34m,\u001b[0m \u001b[0mlabel\u001b[0m\u001b[0;34m=\u001b[0m\u001b[0;34m'pred'\u001b[0m\u001b[0;34m)\u001b[0m\u001b[0;34m\u001b[0m\u001b[0;34m\u001b[0m\u001b[0m\n\u001b[1;32m     46\u001b[0m     \u001b[0mprint\u001b[0m\u001b[0;34m(\u001b[0m\u001b[0;34m\"r2\"\u001b[0m\u001b[0;34m)\u001b[0m\u001b[0;34m\u001b[0m\u001b[0;34m\u001b[0m\u001b[0m\n\u001b[0;32m---> 47\u001b[0;31m     \u001b[0mprint\u001b[0m\u001b[0;34m(\u001b[0m\u001b[0mr2_keras\u001b[0m\u001b[0;34m(\u001b[0m\u001b[0my_true\u001b[0m\u001b[0;34m,\u001b[0m \u001b[0my_pred\u001b[0m\u001b[0;34m)\u001b[0m\u001b[0;34m)\u001b[0m\u001b[0;34m\u001b[0m\u001b[0;34m\u001b[0m\u001b[0m\n\u001b[0m\u001b[1;32m     48\u001b[0m \u001b[0;31m#     print(explained_variance_score(y_true, y_pred,multioutput='uniform_average'))\u001b[0m\u001b[0;34m\u001b[0m\u001b[0;34m\u001b[0m\u001b[0;34m\u001b[0m\u001b[0m\n\u001b[1;32m     49\u001b[0m     \u001b[0;31m# Plot grey box for warmup-period.\u001b[0m\u001b[0;34m\u001b[0m\u001b[0;34m\u001b[0m\u001b[0;34m\u001b[0m\u001b[0m\n",
      "\u001b[0;31mNameError\u001b[0m: name 'r2_keras' is not defined"
     ]
    },
    {
     "data": {
      "image/png": "[encoded data removed]",
      "text/plain": [
       "<Figure size 432x288 with 1 Axes>"
      ]
     },
     "metadata": {
      "needs_background": "light"
     },
     "output_type": "display_data"
    }
   ],
   "source": [
    "plot_comparison(start_idx=2, length=4000, train=False)"
   ]
  },
  {
   "cell_type": "code",
   "execution_count": null,
   "metadata": {},
   "outputs": [],
   "source": []
  },
  {
   "cell_type": "code",
   "execution_count": null,
   "metadata": {},
   "outputs": [],
   "source": []
  }
 ],
 "metadata": {
  "kernelspec": {
   "display_name": "Python 3",
   "language": "python",
   "name": "python3"
  },
  "language_info": {
   "codemirror_mode": {
    "name": "ipython",
    "version": 3
   },
   "file_extension": ".py",
   "mimetype": "text/x-python",
   "name": "python",
   "nbconvert_exporter": "python",
   "pygments_lexer": "ipython3",
   "version": "3.6.7"
  }
 },
 "nbformat": 4,
 "nbformat_minor": 2
}
