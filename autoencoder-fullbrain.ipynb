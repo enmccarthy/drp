{
 "cells": [
  {
   "cell_type": "code",
   "execution_count": 1,
   "metadata": {},
   "outputs": [],
   "source": [
    "%matplotlib inline\n",
    "import os\n",
    "# os.environ[\"CUDA_DEVICE_ORDER\"]=\"PCI_BUS_ID\";\n",
    " \n",
    "# The GPU id to use, usually either \"0\" or \"1\";\n",
    "# os.environ[\"CUDA_VISIBLE_DEVICES\"]=\"1\"; \n",
    "import matplotlib.pyplot as plt\n",
    "import tensorflow as tf\n",
    "import numpy as np\n",
    "from sklearn.metrics import confusion_matrix,explained_variance_score\n",
    "import time\n",
    "from datetime import timedelta\n",
    "import math\n",
    "import pickle\n",
    "import pandas\n",
    "from datapipe import bin_ndarray\n",
    "from skimage import io"
   ]
  },
  {
   "cell_type": "code",
   "execution_count": 2,
   "metadata": {},
   "outputs": [
    {
     "name": "stderr",
     "output_type": "stream",
     "text": [
      "Using TensorFlow backend.\n"
     ]
    }
   ],
   "source": [
    "from sklearn.preprocessing import MinMaxScaler\n",
    "from keras.models import Sequential, load_model, Model\n",
    "from keras.layers import BatchNormalization, Input, Dense, Flatten, GlobalAveragePooling2D, Conv1D,Conv2D, MaxPooling2D,MaxPooling1D, Dropout, UpSampling2D\n",
    "from keras.optimizers import RMSprop, Adam\n",
    "from keras.callbacks import EarlyStopping, ModelCheckpoint, TensorBoard, ReduceLROnPlateau"
   ]
  },
  {
   "cell_type": "code",
   "execution_count": 3,
   "metadata": {},
   "outputs": [],
   "source": [
    "def bin_dy(dy):\n",
    "    (length, y, x) = dy.shape\n",
    "    print(dy.shape)\n",
    "    newdy = np.zeros((length, int(y/2), int(x/2)), dtype=np.float16)\n",
    "    for ind, image in enumerate(dy):\n",
    "        newdy[ind] = bin_ndarray(image, (int(y/2), int(x/2)))\n",
    "    # newdyfile = open('./dfy/bin_AV_2.pkl', 'wb')\n",
    "    print(newdy.shape)\n",
    "    return newdy"
   ]
  },
  {
   "cell_type": "code",
   "execution_count": 23,
   "metadata": {},
   "outputs": [],
   "source": [
    "def cropImage(imArr):\n",
    "    (length, x, y, channel) = imArr.shape\n",
    "    cropped = np.zeros((length, x+1, y, channel))\n",
    "    for ind, im in enumerate(imArr):\n",
    "        for rowind, row in enumerate(im):\n",
    "            if not rowind == 0: \n",
    "                cropped[ind][rowind-1] = row\n",
    "    return cropped\n",
    "            "
   ]
  },
  {
   "cell_type": "code",
   "execution_count": 5,
   "metadata": {},
   "outputs": [
    {
     "name": "stdout",
     "output_type": "stream",
     "text": [
      "(54000, 319, 320)\n",
      "319 320\n"
     ]
    }
   ],
   "source": [
    "# whisk = io.imread('./data/fullvid_av2.tif')\n",
    "whisk = np.load('./data/dffAV_2.npy', mmap_mode='r')\n",
    "np.random.seed(42)\n",
    "(length, lenx, leny) = whisk.shape\n",
    "print(whisk.shape)\n",
    "print(lenx,leny)"
   ]
  },
  {
   "cell_type": "code",
   "execution_count": 41,
   "metadata": {},
   "outputs": [],
   "source": [
    "diffwhisk = np.zeros(whisk.shape, dtype=np.float32)\n",
    "tempim = np.zeros((lenx,leny), dtype=np.float32)\n",
    "for imInd, im in enumerate(whisk):\n",
    "    diffwhisk[imInd] = np.abs(np.subtract(tempim, im))\n",
    "    tempim = im"
   ]
  },
  {
   "cell_type": "code",
   "execution_count": 42,
   "metadata": {},
   "outputs": [
    {
     "name": "stdout",
     "output_type": "stream",
     "text": [
      "[[[1.13647461e-01 2.95410156e-02 2.47955322e-02 ... 7.33642578e-02\n",
      "   7.43408203e-02 7.76367188e-02]\n",
      "  [5.34362793e-02 2.24304199e-02 1.96838379e-02 ... 1.01562500e-01\n",
      "   9.64355469e-02 8.31298828e-02]\n",
      "  [3.46679688e-02 3.66516113e-02 1.73187256e-02 ... 7.49511719e-02\n",
      "   8.49609375e-02 5.88989258e-02]\n",
      "  ...\n",
      "  [8.45947266e-02 7.01904297e-02 6.54296875e-02 ... 1.32568359e-01\n",
      "   1.33056641e-01 1.24511719e-01]\n",
      "  [9.19189453e-02 8.75244141e-02 7.65991211e-02 ... 1.16333008e-01\n",
      "   1.34033203e-01 1.26342773e-01]\n",
      "  [8.41064453e-02 7.84301758e-02 7.78808594e-02 ... 1.28906250e-01\n",
      "   1.33056641e-01 1.82128906e-01]]\n",
      "\n",
      " [[4.02832031e-03 1.00097656e-02 2.73132324e-03 ... 5.18798828e-03\n",
      "   4.76074219e-03 1.83105469e-03]\n",
      "  [9.30786133e-03 2.19726562e-03 1.09863281e-03 ... 6.34765625e-03\n",
      "   3.84521484e-03 2.74658203e-03]\n",
      "  [3.60107422e-03 1.82342529e-02 6.37817383e-03 ... 7.32421875e-03\n",
      "   1.58691406e-03 1.83715820e-02]\n",
      "  ...\n",
      "  [1.05590820e-02 3.66210938e-04 7.93457031e-04 ... 7.62939453e-03\n",
      "   5.73730469e-03 8.91113281e-03]\n",
      "  [7.32421875e-04 1.56860352e-02 1.42211914e-02 ... 3.84521484e-03\n",
      "   1.14746094e-02 5.67626953e-03]\n",
      "  [4.88281250e-04 8.97216797e-03 8.17871094e-03 ... 1.09252930e-02\n",
      "   1.23291016e-02 1.50146484e-02]]\n",
      "\n",
      " [[1.11694336e-02 1.34277344e-03 9.97924805e-03 ... 9.15527344e-04\n",
      "   0.00000000e+00 1.29394531e-02]\n",
      "  [4.63867188e-03 2.13623047e-04 1.31072998e-02 ... 3.66210938e-03\n",
      "   2.05688477e-02 1.56860352e-02]\n",
      "  [2.25830078e-03 1.15509033e-02 7.52258301e-03 ... 9.64355469e-03\n",
      "   2.07519531e-03 1.66015625e-02]\n",
      "  ...\n",
      "  [4.57763672e-03 9.64355469e-03 1.28784180e-02 ... 8.11767578e-03\n",
      "   4.51660156e-03 1.24511719e-02]\n",
      "  [1.46484375e-03 1.20239258e-02 4.51660156e-03 ... 1.89208984e-03\n",
      "   6.59179688e-03 9.21630859e-03]\n",
      "  [6.59179688e-03 9.52148438e-03 9.64355469e-03 ... 1.21459961e-02\n",
      "   1.63574219e-02 3.54003906e-03]]\n",
      "\n",
      " ...\n",
      "\n",
      " [[6.53076172e-03 7.84301758e-03 1.13143921e-02 ... 2.07214355e-02\n",
      "   2.80761719e-03 2.44140625e-04]\n",
      "  [2.19421387e-02 1.57012939e-02 2.03857422e-02 ... 1.03759766e-03\n",
      "   2.07519531e-03 7.44628906e-03]\n",
      "  [6.43920898e-03 1.54113770e-03 1.20086670e-02 ... 4.27246094e-03\n",
      "   3.47900391e-03 4.88281250e-03]\n",
      "  ...\n",
      "  [1.00708008e-02 3.93676758e-03 8.97216797e-03 ... 1.83105469e-03\n",
      "   7.14111328e-03 6.46972656e-03]\n",
      "  [1.23291016e-02 8.91113281e-03 1.13830566e-02 ... 1.33056641e-02\n",
      "   1.22070312e-04 1.25732422e-02]\n",
      "  [6.22558594e-03 2.05078125e-02 8.78906250e-03 ... 6.83593750e-03\n",
      "   2.44140625e-04 1.31835938e-02]]\n",
      "\n",
      " [[1.17187500e-02 8.91113281e-03 4.07409668e-03 ... 1.03149414e-02\n",
      "   4.39453125e-03 1.64794922e-03]\n",
      "  [6.10351562e-05 1.18103027e-02 6.08825684e-03 ... 7.93457031e-03\n",
      "   1.22680664e-02 7.93457031e-04]\n",
      "  [6.77490234e-03 2.12707520e-02 1.84936523e-02 ... 2.44140625e-04\n",
      "   5.49316406e-03 3.23486328e-03]\n",
      "  ...\n",
      "  [9.21630859e-03 7.08007812e-03 1.52587891e-02 ... 2.29492188e-02\n",
      "   7.62939453e-03 1.03149414e-02]\n",
      "  [9.88769531e-03 1.14746094e-02 1.70288086e-02 ... 2.31933594e-03\n",
      "   1.72119141e-02 9.88769531e-03]\n",
      "  [1.43432617e-02 8.60595703e-03 1.70898438e-03 ... 2.19116211e-02\n",
      "   1.20849609e-02 8.78906250e-03]]\n",
      "\n",
      " [[7.99560547e-03 1.19018555e-02 9.70458984e-03 ... 2.16064453e-02\n",
      "   2.50244141e-03 1.36718750e-02]\n",
      "  [1.27258301e-02 8.88061523e-03 3.09753418e-03 ... 2.25830078e-03\n",
      "   6.59179688e-03 1.56860352e-02]\n",
      "  [7.09533691e-03 2.57568359e-02 2.37121582e-02 ... 1.77001953e-03\n",
      "   1.66015625e-02 1.76391602e-02]\n",
      "  ...\n",
      "  [1.11083984e-02 9.27734375e-03 8.23974609e-03 ... 1.92871094e-02\n",
      "   1.62963867e-02 8.11767578e-03]\n",
      "  [1.03149414e-02 2.57568359e-02 3.17993164e-02 ... 3.78417969e-03\n",
      "   1.42822266e-02 1.33056641e-02]\n",
      "  [2.07519531e-02 3.90625000e-03 1.73339844e-02 ... 1.75781250e-02\n",
      "   2.34375000e-02 1.98974609e-02]]]\n"
     ]
    }
   ],
   "source": [
    "print(diffwhisk)"
   ]
  },
  {
   "cell_type": "code",
   "execution_count": 6,
   "metadata": {},
   "outputs": [],
   "source": [
    "def crop(imArr):\n",
    "    (length, x, y) = imArr.shape\n",
    "    cropped = np.zeros((length, x+1, y), dtype=np.uint8)\n",
    "    for ind, im in enumerate(imArr):\n",
    "        for rowind, row in enumerate(im):\n",
    "            if not rowind == 0: \n",
    "                cropped[ind][rowind-1] = row\n",
    "    return cropped"
   ]
  },
  {
   "cell_type": "code",
   "execution_count": 43,
   "metadata": {},
   "outputs": [],
   "source": [
    "# data = bin_dy(crop(whisk))\n",
    "data =whisk.astype(np.float64)"
   ]
  },
  {
   "cell_type": "code",
   "execution_count": 44,
   "metadata": {},
   "outputs": [],
   "source": [
    "# print(data.shape)\n",
    "# np.save('./data/binnedfull_av2.npy', data)"
   ]
  },
  {
   "cell_type": "code",
   "execution_count": 45,
   "metadata": {},
   "outputs": [],
   "source": [
    "num_data = len(data)\n",
    "train_split = 0.7\n",
    "validation_split = 0.1\n",
    "num_train = int(train_split*num_data)\n",
    "num_val = int((num_data - num_train)*validation_split)\n",
    "num_test = num_data - num_train - num_val\n",
    "x_train = data[0:num_train].reshape(num_train, (lenx*leny))\n",
    "x_test = data[(num_train):].reshape(num_test+num_val, (lenx*leny))"
   ]
  },
  {
   "cell_type": "code",
   "execution_count": 46,
   "metadata": {},
   "outputs": [],
   "source": [
    "x_scaler = MinMaxScaler()\n",
    "x_train_scaled = x_scaler.fit_transform(x_train)"
   ]
  },
  {
   "cell_type": "code",
   "execution_count": 47,
   "metadata": {},
   "outputs": [],
   "source": [
    "x_test_scaled = x_scaler.transform(x_test)"
   ]
  },
  {
   "cell_type": "code",
   "execution_count": 48,
   "metadata": {},
   "outputs": [],
   "source": [
    "input_img = Input(shape=(lenx+1, leny, 1))  # adapt this if using `channels_first` image data format\n",
    "\n",
    "x = Conv2D(32, (2, 2), activation='relu', padding='same')(input_img)\n",
    "x = MaxPooling2D((2, 2), padding='same')(x)\n",
    "x = Conv2D(16, (2, 2), activation='relu', padding='same')(x)\n",
    "x = MaxPooling2D((2, 2), padding='same')(x)\n",
    "x = Conv2D(16, (2, 2), activation='relu', padding='same')(x)\n",
    "encoded = MaxPooling2D((2, 2), padding='same')(x)\n",
    "\n",
    "# at this point the representation is (4, 4, 8) i.e. 128-dimensional\n",
    "x = Conv2D(16, (2, 2), activation='relu', padding='same')(encoded)\n",
    "x = UpSampling2D((2, 2))(x)\n",
    "x = Conv2D(16, (2, 2), activation='relu', padding='same')(x)\n",
    "x = UpSampling2D((2, 2))(x)\n",
    "x = Conv2D(32, (2, 2), activation='relu',padding='same')(x)\n",
    "x = UpSampling2D((2, 2))(x)\n",
    "decoded = Conv2D(1, (2, 2), activation='sigmoid', padding='same')(x)\n",
    "\n",
    "autoencoder = Model(input_img, decoded)\n",
    "autoencoder.compile(optimizer='adadelta', loss='binary_crossentropy')"
   ]
  },
  {
   "cell_type": "code",
   "execution_count": 49,
   "metadata": {},
   "outputs": [
    {
     "name": "stdout",
     "output_type": "stream",
     "text": [
      "_________________________________________________________________\n",
      "Layer (type)                 Output Shape              Param #   \n",
      "=================================================================\n",
      "input_3 (InputLayer)         (None, 320, 320, 1)       0         \n",
      "_________________________________________________________________\n",
      "conv2d_17 (Conv2D)           (None, 320, 320, 32)      160       \n",
      "_________________________________________________________________\n",
      "max_pooling2d_8 (MaxPooling2 (None, 160, 160, 32)      0         \n",
      "_________________________________________________________________\n",
      "conv2d_18 (Conv2D)           (None, 160, 160, 16)      2064      \n",
      "_________________________________________________________________\n",
      "max_pooling2d_9 (MaxPooling2 (None, 80, 80, 16)        0         \n",
      "_________________________________________________________________\n",
      "conv2d_19 (Conv2D)           (None, 80, 80, 16)        1040      \n",
      "_________________________________________________________________\n",
      "max_pooling2d_10 (MaxPooling (None, 40, 40, 16)        0         \n",
      "_________________________________________________________________\n",
      "conv2d_20 (Conv2D)           (None, 40, 40, 16)        1040      \n",
      "_________________________________________________________________\n",
      "up_sampling2d_8 (UpSampling2 (None, 80, 80, 16)        0         \n",
      "_________________________________________________________________\n",
      "conv2d_21 (Conv2D)           (None, 80, 80, 16)        1040      \n",
      "_________________________________________________________________\n",
      "up_sampling2d_9 (UpSampling2 (None, 160, 160, 16)      0         \n",
      "_________________________________________________________________\n",
      "conv2d_22 (Conv2D)           (None, 160, 160, 32)      2080      \n",
      "_________________________________________________________________\n",
      "up_sampling2d_10 (UpSampling (None, 320, 320, 32)      0         \n",
      "_________________________________________________________________\n",
      "conv2d_23 (Conv2D)           (None, 320, 320, 1)       129       \n",
      "=================================================================\n",
      "Total params: 7,553\n",
      "Trainable params: 7,553\n",
      "Non-trainable params: 0\n",
      "_________________________________________________________________\n"
     ]
    }
   ],
   "source": [
    "autoencoder.summary()"
   ]
  },
  {
   "cell_type": "code",
   "execution_count": 50,
   "metadata": {},
   "outputs": [
    {
     "name": "stdout",
     "output_type": "stream",
     "text": [
      "319 320\n",
      "(16200, 319, 320, 1)\n",
      "(16200, 320, 320, 1)\n"
     ]
    }
   ],
   "source": [
    "print(lenx,leny)\n",
    "x_train = x_train_scaled.reshape((num_train, lenx,leny,1))\n",
    "x_test = x_test_scaled.reshape((num_test+num_val, lenx, leny, 1))\n",
    "print(x_test.shape)\n",
    "x_train = cropImage(x_train.astype(np.float32))\n",
    "x_test = cropImage(x_test.astype(np.float32))\n",
    "print(x_test.shape)"
   ]
  },
  {
   "cell_type": "code",
   "execution_count": 51,
   "metadata": {},
   "outputs": [],
   "source": [
    "path_checkpoint = '23_checkpoint.keras'\n",
    "callback_checkpoint = ModelCheckpoint(filepath=path_checkpoint,\n",
    "                                      monitor='val_loss',\n",
    "                                      verbose=1,\n",
    "                                      save_weights_only=True,\n",
    "                                      save_best_only=True)"
   ]
  },
  {
   "cell_type": "code",
   "execution_count": 52,
   "metadata": {},
   "outputs": [],
   "source": [
    "callback_early_stopping = EarlyStopping(monitor='val_loss',\n",
    "                                        patience=5, verbose=1)"
   ]
  },
  {
   "cell_type": "code",
   "execution_count": 53,
   "metadata": {},
   "outputs": [],
   "source": [
    "callback_tensorboard = TensorBoard(log_dir='./23_logs/',\n",
    "                                   histogram_freq=0,\n",
    "                                   write_graph=False)"
   ]
  },
  {
   "cell_type": "code",
   "execution_count": 54,
   "metadata": {},
   "outputs": [],
   "source": [
    "callback_reduce_lr = ReduceLROnPlateau(monitor='val_loss',\n",
    "                                       factor=0.1,\n",
    "                                       min_lr=1e-4,\n",
    "                                       patience=0,\n",
    "                                       verbose=1)"
   ]
  },
  {
   "cell_type": "code",
   "execution_count": 55,
   "metadata": {},
   "outputs": [
    {
     "name": "stdout",
     "output_type": "stream",
     "text": [
      "(37800, 320, 320, 1)\n"
     ]
    }
   ],
   "source": [
    "callbacks = [callback_early_stopping,\n",
    "             callback_checkpoint,\n",
    "             callback_tensorboard,\n",
    "             callback_reduce_lr]\n",
    "print(x_train.shape)"
   ]
  },
  {
   "cell_type": "code",
   "execution_count": 56,
   "metadata": {},
   "outputs": [
    {
     "name": "stdout",
     "output_type": "stream",
     "text": [
      "Train on 37800 samples, validate on 16200 samples\n",
      "Epoch 1/12\n",
      "37800/37800 [==============================] - 560s 15ms/step - loss: 0.6556 - val_loss: 0.6376\n",
      "\n",
      "Epoch 00001: val_loss improved from inf to 0.63757, saving model to 23_checkpoint.keras\n",
      "Epoch 2/12\n",
      "37800/37800 [==============================] - 563s 15ms/step - loss: 0.6476 - val_loss: 0.6343\n",
      "\n",
      "Epoch 00002: val_loss improved from 0.63757 to 0.63427, saving model to 23_checkpoint.keras\n",
      "Epoch 3/12\n",
      "12864/37800 [=========>....................] - ETA: 5:24 - loss: 0.6451"
     ]
    },
    {
     "ename": "KeyboardInterrupt",
     "evalue": "",
     "output_type": "error",
     "traceback": [
      "\u001b[0;31m---------------------------------------------------------------------------\u001b[0m",
      "\u001b[0;31mKeyboardInterrupt\u001b[0m                         Traceback (most recent call last)",
      "\u001b[0;32m<timed eval>\u001b[0m in \u001b[0;36m<module>\u001b[0;34m\u001b[0m\n",
      "\u001b[0;32m~/miniconda/envs/keras/lib/python3.6/site-packages/keras/engine/training.py\u001b[0m in \u001b[0;36mfit\u001b[0;34m(self, x, y, batch_size, epochs, verbose, callbacks, validation_split, validation_data, shuffle, class_weight, sample_weight, initial_epoch, steps_per_epoch, validation_steps, **kwargs)\u001b[0m\n\u001b[1;32m   1035\u001b[0m                                         \u001b[0minitial_epoch\u001b[0m\u001b[0;34m=\u001b[0m\u001b[0minitial_epoch\u001b[0m\u001b[0;34m,\u001b[0m\u001b[0;34m\u001b[0m\u001b[0;34m\u001b[0m\u001b[0m\n\u001b[1;32m   1036\u001b[0m                                         \u001b[0msteps_per_epoch\u001b[0m\u001b[0;34m=\u001b[0m\u001b[0msteps_per_epoch\u001b[0m\u001b[0;34m,\u001b[0m\u001b[0;34m\u001b[0m\u001b[0;34m\u001b[0m\u001b[0m\n\u001b[0;32m-> 1037\u001b[0;31m                                         validation_steps=validation_steps)\n\u001b[0m\u001b[1;32m   1038\u001b[0m \u001b[0;34m\u001b[0m\u001b[0m\n\u001b[1;32m   1039\u001b[0m     def evaluate(self, x=None, y=None,\n",
      "\u001b[0;32m~/miniconda/envs/keras/lib/python3.6/site-packages/keras/engine/training_arrays.py\u001b[0m in \u001b[0;36mfit_loop\u001b[0;34m(model, f, ins, out_labels, batch_size, epochs, verbose, callbacks, val_f, val_ins, shuffle, callback_metrics, initial_epoch, steps_per_epoch, validation_steps)\u001b[0m\n\u001b[1;32m    197\u001b[0m                     \u001b[0mins_batch\u001b[0m\u001b[0;34m[\u001b[0m\u001b[0mi\u001b[0m\u001b[0;34m]\u001b[0m \u001b[0;34m=\u001b[0m \u001b[0mins_batch\u001b[0m\u001b[0;34m[\u001b[0m\u001b[0mi\u001b[0m\u001b[0;34m]\u001b[0m\u001b[0;34m.\u001b[0m\u001b[0mtoarray\u001b[0m\u001b[0;34m(\u001b[0m\u001b[0;34m)\u001b[0m\u001b[0;34m\u001b[0m\u001b[0;34m\u001b[0m\u001b[0m\n\u001b[1;32m    198\u001b[0m \u001b[0;34m\u001b[0m\u001b[0m\n\u001b[0;32m--> 199\u001b[0;31m                 \u001b[0mouts\u001b[0m \u001b[0;34m=\u001b[0m \u001b[0mf\u001b[0m\u001b[0;34m(\u001b[0m\u001b[0mins_batch\u001b[0m\u001b[0;34m)\u001b[0m\u001b[0;34m\u001b[0m\u001b[0;34m\u001b[0m\u001b[0m\n\u001b[0m\u001b[1;32m    200\u001b[0m                 \u001b[0mouts\u001b[0m \u001b[0;34m=\u001b[0m \u001b[0mto_list\u001b[0m\u001b[0;34m(\u001b[0m\u001b[0mouts\u001b[0m\u001b[0;34m)\u001b[0m\u001b[0;34m\u001b[0m\u001b[0;34m\u001b[0m\u001b[0m\n\u001b[1;32m    201\u001b[0m                 \u001b[0;32mfor\u001b[0m \u001b[0ml\u001b[0m\u001b[0;34m,\u001b[0m \u001b[0mo\u001b[0m \u001b[0;32min\u001b[0m \u001b[0mzip\u001b[0m\u001b[0;34m(\u001b[0m\u001b[0mout_labels\u001b[0m\u001b[0;34m,\u001b[0m \u001b[0mouts\u001b[0m\u001b[0;34m)\u001b[0m\u001b[0;34m:\u001b[0m\u001b[0;34m\u001b[0m\u001b[0;34m\u001b[0m\u001b[0m\n",
      "\u001b[0;32m~/miniconda/envs/keras/lib/python3.6/site-packages/keras/backend/tensorflow_backend.py\u001b[0m in \u001b[0;36m__call__\u001b[0;34m(self, inputs)\u001b[0m\n\u001b[1;32m   2670\u001b[0m                     \u001b[0;34m'In order to feed symbolic tensors to a Keras model '\u001b[0m\u001b[0;34m\u001b[0m\u001b[0;34m\u001b[0m\u001b[0m\n\u001b[1;32m   2671\u001b[0m                     'in TensorFlow, you need tensorflow 1.8 or higher.')\n\u001b[0;32m-> 2672\u001b[0;31m             \u001b[0;32mreturn\u001b[0m \u001b[0mself\u001b[0m\u001b[0;34m.\u001b[0m\u001b[0m_legacy_call\u001b[0m\u001b[0;34m(\u001b[0m\u001b[0minputs\u001b[0m\u001b[0;34m)\u001b[0m\u001b[0;34m\u001b[0m\u001b[0;34m\u001b[0m\u001b[0m\n\u001b[0m\u001b[1;32m   2673\u001b[0m \u001b[0;34m\u001b[0m\u001b[0m\n\u001b[1;32m   2674\u001b[0m \u001b[0;34m\u001b[0m\u001b[0m\n",
      "\u001b[0;32m~/miniconda/envs/keras/lib/python3.6/site-packages/keras/backend/tensorflow_backend.py\u001b[0m in \u001b[0;36m_legacy_call\u001b[0;34m(self, inputs)\u001b[0m\n\u001b[1;32m   2652\u001b[0m         \u001b[0msession\u001b[0m \u001b[0;34m=\u001b[0m \u001b[0mget_session\u001b[0m\u001b[0;34m(\u001b[0m\u001b[0;34m)\u001b[0m\u001b[0;34m\u001b[0m\u001b[0;34m\u001b[0m\u001b[0m\n\u001b[1;32m   2653\u001b[0m         updated = session.run(fetches=fetches, feed_dict=feed_dict,\n\u001b[0;32m-> 2654\u001b[0;31m                               **self.session_kwargs)\n\u001b[0m\u001b[1;32m   2655\u001b[0m         \u001b[0;32mreturn\u001b[0m \u001b[0mupdated\u001b[0m\u001b[0;34m[\u001b[0m\u001b[0;34m:\u001b[0m\u001b[0mlen\u001b[0m\u001b[0;34m(\u001b[0m\u001b[0mself\u001b[0m\u001b[0;34m.\u001b[0m\u001b[0moutputs\u001b[0m\u001b[0;34m)\u001b[0m\u001b[0;34m]\u001b[0m\u001b[0;34m\u001b[0m\u001b[0;34m\u001b[0m\u001b[0m\n\u001b[1;32m   2656\u001b[0m \u001b[0;34m\u001b[0m\u001b[0m\n",
      "\u001b[0;32m~/miniconda/envs/keras/lib/python3.6/site-packages/tensorflow/python/client/session.py\u001b[0m in \u001b[0;36mrun\u001b[0;34m(self, fetches, feed_dict, options, run_metadata)\u001b[0m\n\u001b[1;32m    787\u001b[0m     \u001b[0;32mtry\u001b[0m\u001b[0;34m:\u001b[0m\u001b[0;34m\u001b[0m\u001b[0;34m\u001b[0m\u001b[0m\n\u001b[1;32m    788\u001b[0m       result = self._run(None, fetches, feed_dict, options_ptr,\n\u001b[0;32m--> 789\u001b[0;31m                          run_metadata_ptr)\n\u001b[0m\u001b[1;32m    790\u001b[0m       \u001b[0;32mif\u001b[0m \u001b[0mrun_metadata\u001b[0m\u001b[0;34m:\u001b[0m\u001b[0;34m\u001b[0m\u001b[0;34m\u001b[0m\u001b[0m\n\u001b[1;32m    791\u001b[0m         \u001b[0mproto_data\u001b[0m \u001b[0;34m=\u001b[0m \u001b[0mtf_session\u001b[0m\u001b[0;34m.\u001b[0m\u001b[0mTF_GetBuffer\u001b[0m\u001b[0;34m(\u001b[0m\u001b[0mrun_metadata_ptr\u001b[0m\u001b[0;34m)\u001b[0m\u001b[0;34m\u001b[0m\u001b[0;34m\u001b[0m\u001b[0m\n",
      "\u001b[0;32m~/miniconda/envs/keras/lib/python3.6/site-packages/tensorflow/python/client/session.py\u001b[0m in \u001b[0;36m_run\u001b[0;34m(self, handle, fetches, feed_dict, options, run_metadata)\u001b[0m\n\u001b[1;32m    995\u001b[0m     \u001b[0;32mif\u001b[0m \u001b[0mfinal_fetches\u001b[0m \u001b[0;32mor\u001b[0m \u001b[0mfinal_targets\u001b[0m\u001b[0;34m:\u001b[0m\u001b[0;34m\u001b[0m\u001b[0;34m\u001b[0m\u001b[0m\n\u001b[1;32m    996\u001b[0m       results = self._do_run(handle, final_targets, final_fetches,\n\u001b[0;32m--> 997\u001b[0;31m                              feed_dict_string, options, run_metadata)\n\u001b[0m\u001b[1;32m    998\u001b[0m     \u001b[0;32melse\u001b[0m\u001b[0;34m:\u001b[0m\u001b[0;34m\u001b[0m\u001b[0;34m\u001b[0m\u001b[0m\n\u001b[1;32m    999\u001b[0m       \u001b[0mresults\u001b[0m \u001b[0;34m=\u001b[0m \u001b[0;34m[\u001b[0m\u001b[0;34m]\u001b[0m\u001b[0;34m\u001b[0m\u001b[0;34m\u001b[0m\u001b[0m\n",
      "\u001b[0;32m~/miniconda/envs/keras/lib/python3.6/site-packages/tensorflow/python/client/session.py\u001b[0m in \u001b[0;36m_do_run\u001b[0;34m(self, handle, target_list, fetch_list, feed_dict, options, run_metadata)\u001b[0m\n\u001b[1;32m   1130\u001b[0m     \u001b[0;32mif\u001b[0m \u001b[0mhandle\u001b[0m \u001b[0;32mis\u001b[0m \u001b[0;32mNone\u001b[0m\u001b[0;34m:\u001b[0m\u001b[0;34m\u001b[0m\u001b[0;34m\u001b[0m\u001b[0m\n\u001b[1;32m   1131\u001b[0m       return self._do_call(_run_fn, self._session, feed_dict, fetch_list,\n\u001b[0;32m-> 1132\u001b[0;31m                            target_list, options, run_metadata)\n\u001b[0m\u001b[1;32m   1133\u001b[0m     \u001b[0;32melse\u001b[0m\u001b[0;34m:\u001b[0m\u001b[0;34m\u001b[0m\u001b[0;34m\u001b[0m\u001b[0m\n\u001b[1;32m   1134\u001b[0m       return self._do_call(_prun_fn, self._session, handle, feed_dict,\n",
      "\u001b[0;32m~/miniconda/envs/keras/lib/python3.6/site-packages/tensorflow/python/client/session.py\u001b[0m in \u001b[0;36m_do_call\u001b[0;34m(self, fn, *args)\u001b[0m\n\u001b[1;32m   1137\u001b[0m   \u001b[0;32mdef\u001b[0m \u001b[0m_do_call\u001b[0m\u001b[0;34m(\u001b[0m\u001b[0mself\u001b[0m\u001b[0;34m,\u001b[0m \u001b[0mfn\u001b[0m\u001b[0;34m,\u001b[0m \u001b[0;34m*\u001b[0m\u001b[0margs\u001b[0m\u001b[0;34m)\u001b[0m\u001b[0;34m:\u001b[0m\u001b[0;34m\u001b[0m\u001b[0;34m\u001b[0m\u001b[0m\n\u001b[1;32m   1138\u001b[0m     \u001b[0;32mtry\u001b[0m\u001b[0;34m:\u001b[0m\u001b[0;34m\u001b[0m\u001b[0;34m\u001b[0m\u001b[0m\n\u001b[0;32m-> 1139\u001b[0;31m       \u001b[0;32mreturn\u001b[0m \u001b[0mfn\u001b[0m\u001b[0;34m(\u001b[0m\u001b[0;34m*\u001b[0m\u001b[0margs\u001b[0m\u001b[0;34m)\u001b[0m\u001b[0;34m\u001b[0m\u001b[0;34m\u001b[0m\u001b[0m\n\u001b[0m\u001b[1;32m   1140\u001b[0m     \u001b[0;32mexcept\u001b[0m \u001b[0merrors\u001b[0m\u001b[0;34m.\u001b[0m\u001b[0mOpError\u001b[0m \u001b[0;32mas\u001b[0m \u001b[0me\u001b[0m\u001b[0;34m:\u001b[0m\u001b[0;34m\u001b[0m\u001b[0;34m\u001b[0m\u001b[0m\n\u001b[1;32m   1141\u001b[0m       \u001b[0mmessage\u001b[0m \u001b[0;34m=\u001b[0m \u001b[0mcompat\u001b[0m\u001b[0;34m.\u001b[0m\u001b[0mas_text\u001b[0m\u001b[0;34m(\u001b[0m\u001b[0me\u001b[0m\u001b[0;34m.\u001b[0m\u001b[0mmessage\u001b[0m\u001b[0;34m)\u001b[0m\u001b[0;34m\u001b[0m\u001b[0;34m\u001b[0m\u001b[0m\n",
      "\u001b[0;32m~/miniconda/envs/keras/lib/python3.6/site-packages/tensorflow/python/client/session.py\u001b[0m in \u001b[0;36m_run_fn\u001b[0;34m(session, feed_dict, fetch_list, target_list, options, run_metadata)\u001b[0m\n\u001b[1;32m   1119\u001b[0m         return tf_session.TF_Run(session, options,\n\u001b[1;32m   1120\u001b[0m                                  \u001b[0mfeed_dict\u001b[0m\u001b[0;34m,\u001b[0m \u001b[0mfetch_list\u001b[0m\u001b[0;34m,\u001b[0m \u001b[0mtarget_list\u001b[0m\u001b[0;34m,\u001b[0m\u001b[0;34m\u001b[0m\u001b[0;34m\u001b[0m\u001b[0m\n\u001b[0;32m-> 1121\u001b[0;31m                                  status, run_metadata)\n\u001b[0m\u001b[1;32m   1122\u001b[0m \u001b[0;34m\u001b[0m\u001b[0m\n\u001b[1;32m   1123\u001b[0m     \u001b[0;32mdef\u001b[0m \u001b[0m_prun_fn\u001b[0m\u001b[0;34m(\u001b[0m\u001b[0msession\u001b[0m\u001b[0;34m,\u001b[0m \u001b[0mhandle\u001b[0m\u001b[0;34m,\u001b[0m \u001b[0mfeed_dict\u001b[0m\u001b[0;34m,\u001b[0m \u001b[0mfetch_list\u001b[0m\u001b[0;34m)\u001b[0m\u001b[0;34m:\u001b[0m\u001b[0;34m\u001b[0m\u001b[0;34m\u001b[0m\u001b[0m\n",
      "\u001b[0;31mKeyboardInterrupt\u001b[0m: "
     ]
    }
   ],
   "source": [
    "%%time\n",
    "autoencoder.fit(x_train, x_train,\n",
    "                epochs=12,\n",
    "                batch_size=64,\n",
    "                shuffle=True,\n",
    "                validation_data=(x_test, x_test),\n",
    "                callbacks=callbacks)"
   ]
  },
  {
   "cell_type": "code",
   "execution_count": 31,
   "metadata": {},
   "outputs": [
    {
     "data": {
      "image/png": "[encoded data removed]",
      "text/plain": [
       "<Figure size 2880x576 with 2 Axes>"
      ]
     },
     "metadata": {
      "needs_background": "light"
     },
     "output_type": "display_data"
    }
   ],
   "source": [
    "decoded_imgs = full_decoder.predict(predictions)\n",
    "\n",
    "n = 1\n",
    "plt.figure(figsize=(40, 8))\n",
    "for i in range(n):\n",
    "    # display original\n",
    "    ax = plt.subplot(2, n, i+1)\n",
    "    plt.imshow(x_test_scaled[i].astype(np.float32).reshape(lenx, leny))\n",
    "    plt.gray()\n",
    "    ax.get_xaxis().set_visible(False)\n",
    "    ax.get_yaxis().set_visible(False)\n",
    "\n",
    "    # display reconstruction\n",
    "    ax = plt.subplot(2, n, i + n+1)\n",
    "    plt.imshow(decoded_imgs[i].reshape(lenx, leny+2))\n",
    "    plt.gray()\n",
    "    ax.get_xaxis().set_visible(False)\n",
    "    ax.get_yaxis().set_visible(False)\n",
    "plt.show()"
   ]
  },
  {
   "cell_type": "code",
   "execution_count": 51,
   "metadata": {},
   "outputs": [],
   "source": [
    "autoencoder.save('fullEncoder2.h5')"
   ]
  },
  {
   "cell_type": "code",
   "execution_count": 6,
   "metadata": {},
   "outputs": [],
   "source": [
    "autoencoder = load_model('fullEncoder2.h5')\n",
    "predictions = np.load(\"statePredictions.npy\")"
   ]
  },
  {
   "cell_type": "code",
   "execution_count": 7,
   "metadata": {},
   "outputs": [],
   "source": [
    "input_img = Input(shape=(41, 53, 8)) \n",
    "e_l  = autoencoder.layers[7]\n",
    "e_l1 = autoencoder.layers[8]\n",
    "e_l2 = autoencoder.layers[9]\n",
    "e_l3 = autoencoder.layers[10]\n",
    "e_l4 = autoencoder.layers[11]\n",
    "e_l5 = autoencoder.layers[12]\n",
    "e_l6 = autoencoder.layers[13]\n",
    "full_decoder = Model(input_img, e_l6(e_l5(e_l4(e_l3(e_l2(e_l1(e_l(input_img))))))))"
   ]
  },
  {
   "cell_type": "code",
   "execution_count": 11,
   "metadata": {},
   "outputs": [
    {
     "data": {
      "text/plain": [
       "(1, 2000, 17384)"
      ]
     },
     "execution_count": 11,
     "metadata": {},
     "output_type": "execute_result"
    }
   ],
   "source": [
    "predictions.shape"
   ]
  },
  {
   "cell_type": "code",
   "execution_count": 13,
   "metadata": {},
   "outputs": [],
   "source": [
    "other, length, x = predictions.shape\n",
    "predictions = predictions.reshape(length, 41,53,8)"
   ]
  },
  {
   "cell_type": "code",
   "execution_count": null,
   "metadata": {},
   "outputs": [],
   "source": []
  }
 ],
 "metadata": {
  "kernelspec": {
   "display_name": "Python 3",
   "language": "python",
   "name": "python3"
  },
  "language_info": {
   "codemirror_mode": {
    "name": "ipython",
    "version": 3
   },
   "file_extension": ".py",
   "mimetype": "text/x-python",
   "name": "python",
   "nbconvert_exporter": "python",
   "pygments_lexer": "ipython3",
   "version": "3.6.8"
  }
 },
 "nbformat": 4,
 "nbformat_minor": 2
}
