{
 "cells": [
  {
   "cell_type": "code",
   "execution_count": 5,
   "metadata": {},
   "outputs": [],
   "source": [
    "#evansdata\n",
    "#gather time stamps --camera and wf--\n",
    "import numpy as np\n",
    "import pandas as pd\n",
    "import h5py\n",
    "from datapipe import find_nearest, getData, rowsToColumns\n",
    "from pathlib import Path\n",
    "import pickle\n",
    "import scipy.io as scio\n",
    "from sklearn.externals import joblib\n",
    "from skimage import io\n",
    "import tensorflow as tf"
   ]
  },
  {
   "cell_type": "code",
   "execution_count": 6,
   "metadata": {},
   "outputs": [
    {
     "name": "stderr",
     "output_type": "stream",
     "text": [
      "Using TensorFlow backend.\n"
     ]
    }
   ],
   "source": [
    "import os\n",
    "from sklearn.preprocessing import MinMaxScaler\n",
    "from keras.models import Sequential, load_model, Model\n",
    "from keras.layers import Input, Dense, GRU, Embedding, LSTM, Dropout\n",
    "from keras.optimizers import RMSprop\n",
    "from keras.callbacks import EarlyStopping, ModelCheckpoint, TensorBoard, ReduceLROnPlateau"
   ]
  },
  {
   "cell_type": "code",
   "execution_count": 2,
   "metadata": {},
   "outputs": [],
   "source": [
    "#should respond to audio\n",
    "\n",
    "im1 = io.imread('./data/whisk_AV2_darker.tif')\n",
    "(length, y, x) = im1.shape"
   ]
  },
  {
   "cell_type": "code",
   "execution_count": null,
   "metadata": {},
   "outputs": [],
   "source": [
    "im2 = io.read('./data/eye_AV2.tif')"
   ]
  },
  {
   "cell_type": "code",
   "execution_count": null,
   "metadata": {},
   "outputs": [],
   "source": [
    "im3 =io.read('./data/ear_AV2.tif')"
   ]
  },
  {
   "cell_type": "code",
   "execution_count": 3,
   "metadata": {},
   "outputs": [],
   "source": [
    "videoTS = np.ndarray.flatten(scio.loadmat('./data/camera_ts.mat')['cameraTime'])\n",
    "wf_ts = np.ndarray.flatten(scio.loadmat('./data/wf_ts.mat')['cropped_wf'])"
   ]
  },
  {
   "cell_type": "code",
   "execution_count": 4,
   "metadata": {},
   "outputs": [],
   "source": [
    "videoAns = []\n",
    "for vidInd, vidTime in enumerate(wf_ts):\n",
    "    windowT = vidTime\n",
    "    if(vidTime > videoTS[0]) and (vidTime+3.85< videoTS[-1]):\n",
    "        currIdx = find_nearest(videoTS, windowT)\n",
    "        videoAns.append(currIdx)"
   ]
  },
  {
   "cell_type": "code",
   "execution_count": 9,
   "metadata": {},
   "outputs": [],
   "source": [
    "vidIndexNP = im1[videoAns]\n",
    "np.save(\"./data/whisk_df.npy\", vidIndexNP)"
   ]
  },
  {
   "cell_type": "code",
   "execution_count": null,
   "metadata": {},
   "outputs": [],
   "source": [
    "#either load above data set or if it has jus tbeen run then dont\n",
    "#here\n",
    "eyeIndexNP = im2[videoAns]\n",
    "np.save(\"./data/eye_df.npy\", eyeIndexNP)"
   ]
  },
  {
   "cell_type": "code",
   "execution_count": null,
   "metadata": {},
   "outputs": [],
   "source": [
    "earIndexNP = im3[videoAns]\n",
    "np.save(\"./data/ear_df.npy\", earIndexNP)"
   ]
  },
  {
   "cell_type": "code",
   "execution_count": 10,
   "metadata": {},
   "outputs": [],
   "source": [
    "# whiskEncoder\n",
    "whiskEncoder = load_model('whiskEncoder.h5')\n",
    "input_img = Input(shape=(126, 136, 1)) \n",
    "w_l  = whiskEncoder.layers[0]\n",
    "w_l1 = whiskEncoder.layers[1]\n",
    "w_l2 = whiskEncoder.layers[2]\n",
    "w_l3 = whiskEncoder.layers[3]\n",
    "w_l4 = whiskEncoder.layers[4]\n",
    "w_l5 = whiskEncoder.layers[5]\n",
    "\n",
    "whisk_encoder = Model(input_img, w_l5(w_l4(w_l3(w_l2(w_l1(w_l(input_img)))))))"
   ]
  },
  {
   "cell_type": "code",
   "execution_count": null,
   "metadata": {},
   "outputs": [],
   "source": [
    "earEncoder = load_model('earEncoder2.h5')"
   ]
  },
  {
   "cell_type": "code",
   "execution_count": null,
   "metadata": {},
   "outputs": [],
   "source": [
    "eyeEncoder = load_model('eyeEncoder2.h5')"
   ]
  },
  {
   "cell_type": "code",
   "execution_count": 12,
   "metadata": {},
   "outputs": [],
   "source": [
    "#get the size of the output of the last layer, create an array of that size \n",
    "#then for each image get the encoding\n",
    "vidIndexNP = vidIndexNP.reshape(len(videoAns), 126,136,1)\n",
    "encoded_images = whisk_encoder2.predict(vidIndexNP)\n",
    "np.save(\"./data/whisk_encoded_df2.npy\", encoded_images)"
   ]
  },
  {
   "cell_type": "code",
   "execution_count": null,
   "metadata": {},
   "outputs": [],
   "source": [
    "eyeIndexNP = eyeIndexNP.reshape(len(videoAns), , ,1)\n",
    "eye_encoded = eye_encoder2.predict(eyeIndexNP)\n",
    "np.save(\"./data/eye_encoded_df2.npy\", eye_encoded)"
   ]
  },
  {
   "cell_type": "code",
   "execution_count": null,
   "metadata": {},
   "outputs": [],
   "source": [
    "earIndexNP = earIndexNP.reshape(len(videoAns), , ,1)\n",
    "ear_encoded = ear_encoder2.predict(earIndexNP)\n",
    "np.save(\"./data/eye_encoded_df2.npy\")"
   ]
  }
 ],
 "metadata": {
  "kernelspec": {
   "display_name": "Python 3",
   "language": "python",
   "name": "python3"
  },
  "language_info": {
   "codemirror_mode": {
    "name": "ipython",
    "version": 3
   },
   "file_extension": ".py",
   "mimetype": "text/x-python",
   "name": "python",
   "nbconvert_exporter": "python",
   "pygments_lexer": "ipython3",
   "version": "3.5.5"
  }
 },
 "nbformat": 4,
 "nbformat_minor": 2
}
