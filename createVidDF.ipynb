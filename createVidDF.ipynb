{
 "cells": [
  {
   "cell_type": "code",
   "execution_count": 5,
   "metadata": {},
   "outputs": [],
   "source": [
    "#evansdata\n",
    "#gather time stamps --camera and wf--\n",
    "import numpy as np\n",
    "import pandas as pd\n",
    "import h5py\n",
    "from datapipe import find_nearest, getData, rowsToColumns\n",
    "from pathlib import Path\n",
    "import pickle\n",
    "import scipy.io as scio\n",
    "from sklearn.externals import joblib\n",
    "from skimage import io\n",
    "import tensorflow as tf"
   ]
  },
  {
   "cell_type": "code",
   "execution_count": 6,
   "metadata": {},
   "outputs": [
    {
     "name": "stderr",
     "output_type": "stream",
     "text": [
      "Using TensorFlow backend.\n"
     ]
    }
   ],
   "source": [
    "import os\n",
    "from sklearn.preprocessing import MinMaxScaler\n",
    "from keras.models import Sequential, load_model, Model\n",
    "from keras.layers import Input, Dense, GRU, Embedding, LSTM, Dropout\n",
    "from keras.optimizers import RMSprop\n",
    "from keras.callbacks import EarlyStopping, ModelCheckpoint, TensorBoard, ReduceLROnPlateau"
   ]
  },
  {
   "cell_type": "code",
   "execution_count": 2,
   "metadata": {},
   "outputs": [],
   "source": [
    "#should respond to audio\n",
    "\n",
    "im1 = io.imread('./data/whisk.tif')\n",
    "(length, y, x) = im1.shape\n",
    "# im2 = io.imread('./data/AV_5_1.tif')\n",
    "# (length1, y, x) = im2.shape\n",
    "# im3 = io.imread('./data/AV_5_2.tif')\n",
    "# (length2, y, x) = im3.shape"
   ]
  },
  {
   "cell_type": "code",
   "execution_count": 3,
   "metadata": {},
   "outputs": [],
   "source": [
    "videoTS = np.ndarray.flatten(scio.loadmat('./data/camera_ts.mat')['cameraTime'])\n",
    "wf_ts = np.ndarray.flatten(scio.loadmat('./data/wf_ts.mat')['cropped_wf'])"
   ]
  },
  {
   "cell_type": "code",
   "execution_count": 4,
   "metadata": {},
   "outputs": [],
   "source": [
    "videoAns = []\n",
    "for vidInd, vidTime in enumerate(wf_ts):\n",
    "    windowT = vidTime\n",
    "    if(vidTime > videoTS[0]) and (vidTime+3.85< videoTS[-1]):\n",
    "        currIdx = find_nearest(videoTS, windowT)\n",
    "        videoAns.append(currIdx)"
   ]
  },
  {
   "cell_type": "code",
   "execution_count": 9,
   "metadata": {},
   "outputs": [],
   "source": [
    "vidIndexNP = im1[videoAns]\n",
    "np.save(\"./data/whisk_df.npy\", vidIndexNP)"
   ]
  },
  {
   "cell_type": "code",
   "execution_count": null,
   "metadata": {},
   "outputs": [],
   "source": [
    "#either load above data set or if it has jus tbeen run then dont\n",
    "#here"
   ]
  },
  {
   "cell_type": "code",
   "execution_count": 10,
   "metadata": {},
   "outputs": [],
   "source": [
    "# whiskEncoder\n",
    "whiskEncoder = load_model('whiskEncoder.h5')\n",
    "input_img = Input(shape=(126, 136, 1)) \n",
    "w_l  = whiskEncoder.layers[0]\n",
    "w_l1 = whiskEncoder.layers[1]\n",
    "w_l2 = whiskEncoder.layers[2]\n",
    "w_l3 = whiskEncoder.layers[3]\n",
    "w_l4 = whiskEncoder.layers[4]\n",
    "w_l5 = whiskEncoder.layers[5]\n",
    "\n",
    "whisk_encoder = Model(input_img, w_l5(w_l4(w_l3(w_l2(w_l1(w_l(input_img)))))))"
   ]
  },
  {
   "cell_type": "code",
   "execution_count": 12,
   "metadata": {},
   "outputs": [],
   "source": [
    "#get the size of the output of the last layer, create an array of that size \n",
    "#then for each image get the encoding\n",
    "vidIndexNP = vidIndexNP.reshape(len(videoAns), 126,136,1)\n",
    "encoded_images = whisk_encoder.predict(vidIndexNP)\n",
    "np.save(\"./data/whisk_encoded_df.npy\", encoded_images)"
   ]
  },
  {
   "cell_type": "code",
   "execution_count": null,
   "metadata": {},
   "outputs": [],
   "source": []
  }
 ],
 "metadata": {
  "kernelspec": {
   "display_name": "Python 3",
   "language": "python",
   "name": "python3"
  },
  "language_info": {
   "codemirror_mode": {
    "name": "ipython",
    "version": 3
   },
   "file_extension": ".py",
   "mimetype": "text/x-python",
   "name": "python",
   "nbconvert_exporter": "python",
   "pygments_lexer": "ipython3",
   "version": "3.6.8"
  }
 },
 "nbformat": 4,
 "nbformat_minor": 2
}
