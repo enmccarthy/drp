{
 "cells": [
  {
   "cell_type": "code",
   "execution_count": 1,
   "metadata": {},
   "outputs": [],
   "source": [
    "%matplotlib inline\n",
    "import os\n",
    "# os.environ[\"CUDA_DEVICE_ORDER\"]=\"PCI_BUS_ID\";\n",
    " \n",
    "# The GPU id to use, usually either \"0\" or \"1\";\n",
    "# os.environ[\"CUDA_VISIBLE_DEVICES\"]=\"1\"; \n",
    "import tensorflow as tf\n",
    "import numpy as np\n",
    "import pickle\n",
    "import pandas\n",
    "import matplotlib.pyplot as plt\n",
    "from sklearn.metrics import r2_score, explained_variance_score\n",
    "from datapipe import bin_ndarray, calcDff\n",
    "from sklearn.externals import joblib\n",
    "#TODO: read tf documentation on what the static_rnn does\n",
    "#do I want to one hot encode the data? or already too many dimensions"
   ]
  },
  {
   "cell_type": "code",
   "execution_count": 2,
   "metadata": {},
   "outputs": [
    {
     "name": "stderr",
     "output_type": "stream",
     "text": [
      "Using TensorFlow backend.\n"
     ]
    }
   ],
   "source": [
    "import os\n",
    "from sklearn.preprocessing import MinMaxScaler\n",
    "from keras.models import Sequential, load_model, Model\n",
    "from keras.layers import Input, Dense, GRU, Embedding, LSTM, Dropout\n",
    "from keras.optimizers import RMSprop\n",
    "from keras.callbacks import EarlyStopping, ModelCheckpoint, TensorBoard, ReduceLROnPlateau"
   ]
  },
  {
   "cell_type": "code",
   "execution_count": 3,
   "metadata": {},
   "outputs": [],
   "source": [
    "np.random.seed(0)"
   ]
  },
  {
   "cell_type": "code",
   "execution_count": 4,
   "metadata": {},
   "outputs": [],
   "source": [
    "tf.__version__\n",
    "from tensorflow.python.ops import control_flow_ops\n",
    "\n",
    "orig_while_loop = control_flow_ops.while_loop\n",
    "\n",
    "def patched_while_loop(*args, **kwargs):\n",
    "    kwargs.pop(\"maximum_iterations\", None)  # Ignore.\n",
    "    return orig_while_loop(*args, **kwargs)\n",
    "\n",
    "\n",
    "control_flow_ops.while_loop = patched_while_loop"
   ]
  },
  {
   "cell_type": "code",
   "execution_count": 5,
   "metadata": {},
   "outputs": [
    {
     "name": "stdout",
     "output_type": "stream",
     "text": [
      "52478 295 300\n"
     ]
    }
   ],
   "source": [
    "# load whisk encoding\n",
    "#load df\n",
    "#load whisk me\n",
    "#load probability of whisking\n",
    "dy = np.load('./data/dffAV_2.npy', mmap_mode='r')\n",
    "f = open('./data/masdfAV_2.pkl', 'rb')\n",
    "df = pickle.load(f)\n",
    "(length, y, x) = dy.shape\n",
    "print(length, x, y)"
   ]
  },
  {
   "cell_type": "code",
   "execution_count": 6,
   "metadata": {},
   "outputs": [],
   "source": [
    "#encodedwhisk dataset\n",
    "whisk_encoded = np.load(\"./data/whisk_encoded_dfnobg2.npy\")"
   ]
  },
  {
   "cell_type": "code",
   "execution_count": 50,
   "metadata": {},
   "outputs": [],
   "source": [
    "solutions = np.load(\"./data/whiskingpb.npy\")"
   ]
  },
  {
   "cell_type": "code",
   "execution_count": 7,
   "metadata": {},
   "outputs": [
    {
     "name": "stdout",
     "output_type": "stream",
     "text": [
      "22.439677537994466\n",
      "52478\n"
     ]
    },
    {
     "data": {
      "text/plain": [
       "12263.0"
      ]
     },
     "execution_count": 7,
     "metadata": {},
     "output_type": "execute_result"
    }
   ],
   "source": [
    "me = np.load(\"./data/whisk_me.npy\")\n",
    "thres = np.std(me)*1.5\n",
    "avg = np.average(me)\n",
    "print(thres)\n",
    "y_data = np.zeros(len(df))\n",
    "prev = me[0]\n",
    "for valiter, val in enumerate(me):\n",
    "    if abs(val-prev) >= thres:\n",
    "        y_data[valiter] = 1\n",
    "    prev = val\n",
    "print(len(y_data))\n",
    "sum(y_data)  "
   ]
  },
  {
   "cell_type": "code",
   "execution_count": 8,
   "metadata": {},
   "outputs": [],
   "source": [
    "#10hz data\n",
    "dfcropped = (df.iloc[::3])\n",
    "dfcropped = dfcropped[[\"stimType\", \"pupilCurr\", \"snoutCurr\",\"jawCurr\",\"wheelCurr\",\"responseT\", \"H\", \"M\", \"FA\", \"CR\",\n",
    "                 \"whiskCurr\", \"lastStimT\",\"vidCurr\"]]\n",
    "\n",
    "dycropped= (dy[::3])\n",
    "(length, leny, lenx) = dycropped.shape\n",
    "dycropped = dycropped.reshape(length, leny*lenx)"
   ]
  },
  {
   "cell_type": "code",
   "execution_count": 9,
   "metadata": {},
   "outputs": [],
   "source": [
    "#15hz data\n",
    "dfcropped = (df.iloc[::2])\n",
    "dfcropped = dfcropped[[\"stimType\", \"pupilCurr\", \"snoutCurr\",\"jawCurr\",\"wheelCurr\",\"responseT\", \"H\", \"M\", \"FA\", \"CR\",\n",
    "                 \"whiskCurr\", \"lastStimT\",\"vidCurr\"]]\n",
    "\n",
    "dycropped = (dy[::2])\n",
    "(length, leny, lenx) = dycropped.shape\n",
    "dycropped = dycropped.reshape(length, leny*lenx)"
   ]
  },
  {
   "cell_type": "code",
   "execution_count": 125,
   "metadata": {},
   "outputs": [],
   "source": [
    "#30hz data \n",
    "dfcropped = df[[\"stimType\", \"pupilCurr\", \"snoutCurr\",\"jawCurr\",\"wheelCurr\",\"responseT\", \"H\", \"M\", \"FA\", \"CR\",\n",
    "                 \"whiskCurr\", \"lastStimT\",\"vidCurr\"]]\n",
    "(length, leny, lenx) = dy.shape\n",
    "\n",
    "dycropped = dy.reshape((length, leny*lenx))"
   ]
  },
  {
   "cell_type": "code",
   "execution_count": 126,
   "metadata": {},
   "outputs": [
    {
     "name": "stdout",
     "output_type": "stream",
     "text": [
      "52478\n",
      "<class 'numpy.ndarray'>\n",
      "Shape: (52478,)\n"
     ]
    }
   ],
   "source": [
    "x_data = me\n",
    "print(len(x_data))\n",
    "# print(whisk_encoded.shape)\n",
    "# whisk_encoded_reshape = whisk_encoded.reshape((17002, 14*34*16))\n",
    "# x_data = np.concatenate((x_data, whisk_encoded_reshape), axis=1)\n",
    "print(type(x_data))\n",
    "print(\"Shape:\", x_data.shape)"
   ]
  },
  {
   "cell_type": "code",
   "execution_count": 127,
   "metadata": {},
   "outputs": [
    {
     "name": "stdout",
     "output_type": "stream",
     "text": [
      "<class 'numpy.core.memmap.memmap'>\n",
      "Shape: (52478, 88500)\n"
     ]
    }
   ],
   "source": [
    "print(type(dycropped))\n",
    "print(\"Shape:\", dycropped.shape)"
   ]
  },
  {
   "cell_type": "code",
   "execution_count": 128,
   "metadata": {},
   "outputs": [
    {
     "name": "stdout",
     "output_type": "stream",
     "text": [
      "52478\n"
     ]
    }
   ],
   "source": [
    "num_data = len(x_data)\n",
    "print(num_data)\n",
    "train_split = 0.7\n",
    "validation_split = 0.1\n",
    "num_train = int(train_split*num_data)\n",
    "num_val = int((num_data - num_train)*validation_split)\n",
    "num_test = num_data - num_train - num_val"
   ]
  },
  {
   "cell_type": "code",
   "execution_count": 129,
   "metadata": {},
   "outputs": [
    {
     "data": {
      "text/plain": [
       "50904"
      ]
     },
     "execution_count": 129,
     "metadata": {},
     "output_type": "execute_result"
    }
   ],
   "source": [
    "x_train = x_data[0:num_train]\n",
    "x_val = x_data[num_train:(num_train+num_val)]\n",
    "x_test = x_data[(num_train+num_val):]\n",
    "len(x_train) + len(x_test)"
   ]
  },
  {
   "cell_type": "code",
   "execution_count": 130,
   "metadata": {},
   "outputs": [
    {
     "data": {
      "text/plain": [
       "50904"
      ]
     },
     "execution_count": 130,
     "metadata": {},
     "output_type": "execute_result"
    }
   ],
   "source": [
    "y_train = dycropped[0:num_train]\n",
    "y_val = dycropped[num_train:(num_train+num_val)]\n",
    "y_test = dycropped[(num_train+num_val):]\n",
    "len(y_train) + len(y_test)\n",
    "len(y_train) + len(y_test)"
   ]
  },
  {
   "cell_type": "code",
   "execution_count": 131,
   "metadata": {},
   "outputs": [
    {
     "name": "stdout",
     "output_type": "stream",
     "text": [
      "1\n"
     ]
    },
    {
     "data": {
      "text/plain": [
       "88500"
      ]
     },
     "execution_count": 131,
     "metadata": {},
     "output_type": "execute_result"
    }
   ],
   "source": [
    "num_x_signals = 1\n",
    "print(num_x_signals)\n",
    "num_y_signals = dycropped.shape[1]\n",
    "num_y_signals"
   ]
  },
  {
   "cell_type": "markdown",
   "metadata": {},
   "source": [
    "# Scaled Data"
   ]
  },
  {
   "cell_type": "code",
   "execution_count": 132,
   "metadata": {},
   "outputs": [
    {
     "name": "stdout",
     "output_type": "stream",
     "text": [
      "Min: 0.0\n",
      "Max: 226.7078799249531\n"
     ]
    }
   ],
   "source": [
    "print(\"Min:\", np.min(x_train))\n",
    "print(\"Max:\", np.max(x_train))"
   ]
  },
  {
   "cell_type": "code",
   "execution_count": 133,
   "metadata": {},
   "outputs": [],
   "source": [
    "x_scaler = MinMaxScaler()\n",
    "x_train_scaled = x_scaler.fit_transform(x_train.reshape(-1, 1))\n",
    "# whill need to redo these before using them again\n",
    "# joblib.dump(x_scaler, \"x_scaler10hz.pkl\")"
   ]
  },
  {
   "cell_type": "code",
   "execution_count": 134,
   "metadata": {},
   "outputs": [
    {
     "name": "stdout",
     "output_type": "stream",
     "text": [
      "Min: 0.0\n",
      "Max: 1.0\n"
     ]
    }
   ],
   "source": [
    "print(\"Min:\", np.min(x_train_scaled))\n",
    "print(\"Max:\", np.max(x_train_scaled))"
   ]
  },
  {
   "cell_type": "code",
   "execution_count": 135,
   "metadata": {},
   "outputs": [],
   "source": [
    "y_val = y_val.astype(np.float32)\n",
    "y_test = y_test.astype(np.float32)\n",
    "y_train = y_train.astype(np.float32)"
   ]
  },
  {
   "cell_type": "code",
   "execution_count": 136,
   "metadata": {},
   "outputs": [],
   "source": [
    "x_test_scaled = x_scaler.transform(x_test.reshape(-1, 1))\n",
    "x_val_scaled = x_scaler.transform(x_val.reshape(-1, 1))"
   ]
  },
  {
   "cell_type": "code",
   "execution_count": 137,
   "metadata": {},
   "outputs": [],
   "source": [
    "y_scaler = MinMaxScaler()\n",
    "y_train_scaled = y_scaler.fit_transform(y_train)\n",
    "y_test_scaled = y_scaler.transform(y_test)\n",
    "y_val_scaled = y_scaler.transform(y_val)\n",
    "# joblib.dump(y_scaler, \"y_scaler10hz.pkl\")"
   ]
  },
  {
   "cell_type": "markdown",
   "metadata": {},
   "source": [
    "# Data Generator\n",
    "useful for large amounts of data"
   ]
  },
  {
   "cell_type": "code",
   "execution_count": 138,
   "metadata": {},
   "outputs": [],
   "source": [
    "def batch_generator(batch_size, sequence_length):\n",
    "    \"\"\"\n",
    "    Generator function for creating random batches of training-data.\n",
    "    \"\"\"\n",
    "\n",
    "    # Infinite loop.\n",
    "    while True:\n",
    "        # Allocate a new array for the batch of input-signals.\n",
    "        x_shape = (batch_size, sequence_length, num_x_signals)\n",
    "        x_batch = np.zeros(shape=x_shape, dtype=np.float16)\n",
    "\n",
    "        # Allocate a new array for the batch of output-signals.\n",
    "        y_shape = (batch_size, sequence_length, num_y_signals)\n",
    "#         y_shape = (batch_size, num_y_signals)\n",
    "        y_batch = np.zeros(shape=y_shape, dtype=np.float16)\n",
    "\n",
    "        # Fill the batch with random sequences of data.\n",
    "        for i in range(batch_size):\n",
    "            # Get a random start-index.\n",
    "            # This points somewhere into the training-data.\n",
    "            idx = np.random.randint(num_train - sequence_length)\n",
    "            \n",
    "            # Copy the sequences of data starting at this index.\n",
    "            x_batch[i] = x_train_scaled[idx:idx+sequence_length]\n",
    "            y_batch[i] = y_train_scaled[idx:idx+sequence_length]\n",
    "        \n",
    "        yield (x_batch, y_batch)"
   ]
  },
  {
   "cell_type": "code",
   "execution_count": 139,
   "metadata": {},
   "outputs": [],
   "source": [
    "batch_size = 128\n",
    "sequence_length = 40 #20 frames after stim time i dont think this right come back to it"
   ]
  },
  {
   "cell_type": "code",
   "execution_count": 140,
   "metadata": {},
   "outputs": [],
   "source": [
    "generator = batch_generator(batch_size=batch_size, sequence_length=sequence_length)"
   ]
  },
  {
   "cell_type": "code",
   "execution_count": 141,
   "metadata": {},
   "outputs": [],
   "source": [
    "x_batch, y_batch = next(generator)"
   ]
  },
  {
   "cell_type": "code",
   "execution_count": 142,
   "metadata": {},
   "outputs": [
    {
     "name": "stdout",
     "output_type": "stream",
     "text": [
      "(128, 40, 1)\n",
      "(128, 40, 88500)\n"
     ]
    }
   ],
   "source": [
    "print(x_batch.shape)\n",
    "print(y_batch.shape)"
   ]
  },
  {
   "cell_type": "code",
   "execution_count": 143,
   "metadata": {},
   "outputs": [],
   "source": [
    "validation_data = (np.expand_dims(x_val_scaled, axis=0),\n",
    "                   np.expand_dims(y_val_scaled, axis=0))"
   ]
  },
  {
   "cell_type": "code",
   "execution_count": 144,
   "metadata": {},
   "outputs": [
    {
     "name": "stdout",
     "output_type": "stream",
     "text": [
      "1\n"
     ]
    }
   ],
   "source": [
    "print(num_x_signals)"
   ]
  },
  {
   "cell_type": "code",
   "execution_count": 145,
   "metadata": {},
   "outputs": [],
   "source": [
    "#make this dense layer bigger\n",
    "model = Sequential()\n",
    "model.add(LSTM(units=4,\n",
    "              return_sequences=True,\n",
    "              input_shape=(None, num_x_signals,)))\n",
    "\n",
    "# model.add(LSTM(units=24,\n",
    "#               return_sequences=True))\n",
    "# model.add(Dense(250, activation='sigmoid'))\n",
    "# model.add(Dropout(.30))\n",
    "# model.add(Dense(200, activation='sigmoid'))\n",
    "# model.add(Dropout(.30))\n",
    "model.add(Dense(50, activation='sigmoid'))\n",
    "model.add(Dropout(.20))\n",
    "model.add(Dense(50, activation='sigmoid'))\n",
    "model.add(Dropout(.20))"
   ]
  },
  {
   "cell_type": "code",
   "execution_count": 146,
   "metadata": {},
   "outputs": [],
   "source": [
    "# squash the outputs to be between 0 and 1\n",
    "model.add(Dense(num_y_signals, activation='sigmoid'))"
   ]
  },
  {
   "cell_type": "markdown",
   "metadata": {},
   "source": [
    "\n",
    "A problem with using the Sigmoid activation function, is that we can now only output values in the same range as the training-data.\n",
    "\n",
    "For example, if the training-data only has temperatures between -20 and +30 degrees, then the scaler-object will map -20 to 0 and +30 to 1. So if we limit the output of the neural network to be between 0 and 1 using the Sigmoid function, this can only be mapped back to temperature values between -20 and +30.\n",
    "\n",
    "We can use a linear activation function on the output instead. This allows for the output to take on arbitrary values. It might work with the standard initialization for a simple network architecture, but for more complicated network architectures e.g. with more layers, it might be necessary to initialize the weights with smaller values to avoid NaN values during training. You may need to experiment with this to get it working."
   ]
  },
  {
   "cell_type": "code",
   "execution_count": 147,
   "metadata": {},
   "outputs": [],
   "source": [
    "if False:\n",
    "    from tensorflow.python.keras.initializers import RandomUniform\n",
    "\n",
    "    # Maybe use lower init-ranges.\n",
    "    init = RandomUniform(minval=-0.05, maxval=0.05)\n",
    "\n",
    "    model.add(Dense(num_y_signals,\n",
    "                    activation='linear',\n",
    "                    kernel_initializer=init))"
   ]
  },
  {
   "cell_type": "markdown",
   "metadata": {},
   "source": [
    "# Loss Function"
   ]
  },
  {
   "cell_type": "code",
   "execution_count": 148,
   "metadata": {},
   "outputs": [],
   "source": [
    "warmup_steps = 2"
   ]
  },
  {
   "cell_type": "code",
   "execution_count": 149,
   "metadata": {},
   "outputs": [],
   "source": [
    "def loss_mse_warmup(y_true, y_pred):\n",
    "    \"\"\"\n",
    "    Calculate the Mean Squared Error between y_true and y_pred,\n",
    "    but ignore the beginning \"warmup\" part of the sequences.\n",
    "    \n",
    "    y_true is the desired output.\n",
    "    y_pred is the model's output.\n",
    "    \"\"\"\n",
    "\n",
    "    # The shape of both input tensors are:\n",
    "    # [batch_size, sequence_length, num_y_signals].\n",
    "\n",
    "    # Ignore the \"warmup\" parts of the sequences\n",
    "    # by taking slices of the tensors.\n",
    "    y_true_slice = y_true[:, warmup_steps:, :]\n",
    "    y_pred_slice = y_pred[:, warmup_steps:, :]\n",
    "\n",
    "    # These sliced tensors both have this shape:\n",
    "    # [batch_size, sequence_length - warmup_steps, num_y_signals]\n",
    "\n",
    "    # Calculate the MSE loss for each value in these tensors.\n",
    "    # This outputs a 3-rank tensor of the same shape.\n",
    "    loss = tf.losses.mean_squared_error(labels=y_true_slice,\n",
    "                                        predictions=y_pred_slice)\n",
    "\n",
    "    # Keras may reduce this across the first axis (the batch)\n",
    "    # but the semantics are unclear, so to be sure we use\n",
    "    # the loss across the entire tensor, we reduce it to a\n",
    "    # single scalar with the mean function.\n",
    "    loss_mean = tf.reduce_mean(loss)\n",
    "\n",
    "    return loss_mean"
   ]
  },
  {
   "cell_type": "code",
   "execution_count": 150,
   "metadata": {},
   "outputs": [],
   "source": [
    "optimizer = RMSprop(lr=1e-3)"
   ]
  },
  {
   "cell_type": "code",
   "execution_count": 151,
   "metadata": {},
   "outputs": [],
   "source": [
    "model.compile(loss=loss_mse_warmup, optimizer=optimizer)"
   ]
  },
  {
   "cell_type": "code",
   "execution_count": 152,
   "metadata": {},
   "outputs": [
    {
     "name": "stdout",
     "output_type": "stream",
     "text": [
      "_________________________________________________________________\n",
      "Layer (type)                 Output Shape              Param #   \n",
      "=================================================================\n",
      "lstm_4 (LSTM)                (None, None, 4)           96        \n",
      "_________________________________________________________________\n",
      "dense_7 (Dense)              (None, None, 50)          250       \n",
      "_________________________________________________________________\n",
      "dropout_5 (Dropout)          (None, None, 50)          0         \n",
      "_________________________________________________________________\n",
      "dense_8 (Dense)              (None, None, 50)          2550      \n",
      "_________________________________________________________________\n",
      "dropout_6 (Dropout)          (None, None, 50)          0         \n",
      "_________________________________________________________________\n",
      "dense_9 (Dense)              (None, None, 88500)       4513500   \n",
      "=================================================================\n",
      "Total params: 4,516,396\n",
      "Trainable params: 4,516,396\n",
      "Non-trainable params: 0\n",
      "_________________________________________________________________\n"
     ]
    }
   ],
   "source": [
    "model.summary()"
   ]
  },
  {
   "cell_type": "code",
   "execution_count": 153,
   "metadata": {},
   "outputs": [],
   "source": [
    "path_checkpoint = '23_checkpoint.keras'\n",
    "callback_checkpoint = ModelCheckpoint(filepath=path_checkpoint,\n",
    "                                      monitor='val_loss',\n",
    "                                      verbose=1,\n",
    "                                      save_weights_only=True,\n",
    "                                      save_best_only=True)"
   ]
  },
  {
   "cell_type": "code",
   "execution_count": 154,
   "metadata": {},
   "outputs": [],
   "source": [
    "callback_early_stopping = EarlyStopping(monitor='val_loss',\n",
    "                                        patience=5, verbose=1)"
   ]
  },
  {
   "cell_type": "code",
   "execution_count": 155,
   "metadata": {},
   "outputs": [],
   "source": [
    "callback_tensorboard = TensorBoard(log_dir='./23_logs/',\n",
    "                                   histogram_freq=0,\n",
    "                                   write_graph=False)"
   ]
  },
  {
   "cell_type": "code",
   "execution_count": 156,
   "metadata": {},
   "outputs": [],
   "source": [
    "callback_reduce_lr = ReduceLROnPlateau(monitor='val_loss',\n",
    "                                       factor=0.1,\n",
    "                                       min_lr=1e-4,\n",
    "                                       patience=0,\n",
    "                                       verbose=1)"
   ]
  },
  {
   "cell_type": "code",
   "execution_count": 157,
   "metadata": {},
   "outputs": [],
   "source": [
    "callbacks = [callback_early_stopping,\n",
    "             callback_checkpoint,\n",
    "             callback_tensorboard,\n",
    "             callback_reduce_lr]"
   ]
  },
  {
   "cell_type": "code",
   "execution_count": 158,
   "metadata": {
    "scrolled": false
   },
   "outputs": [
    {
     "name": "stdout",
     "output_type": "stream",
     "text": [
      "Epoch 1/100\n",
      "100/100 [==============================] - 333s 3s/step - loss: 0.0197 - val_loss: 0.0183\n",
      "\n",
      "Epoch 00001: val_loss improved from inf to 0.01830, saving model to 23_checkpoint.keras\n",
      "Epoch 2/100\n",
      "100/100 [==============================] - 328s 3s/step - loss: 0.0187 - val_loss: 0.0183\n",
      "\n",
      "Epoch 00002: val_loss improved from 0.01830 to 0.01828, saving model to 23_checkpoint.keras\n",
      "\n",
      "Epoch 00002: ReduceLROnPlateau reducing learning rate to 0.00010000000474974513.\n",
      "Epoch 3/100\n",
      "100/100 [==============================] - 329s 3s/step - loss: 0.0188 - val_loss: 0.0183\n",
      "\n",
      "Epoch 00003: val_loss did not improve from 0.01828\n",
      "\n",
      "Epoch 00003: ReduceLROnPlateau reducing learning rate to 0.0001.\n",
      "Epoch 4/100\n",
      "100/100 [==============================] - 327s 3s/step - loss: 0.0188 - val_loss: 0.0182\n",
      "\n",
      "Epoch 00004: val_loss improved from 0.01828 to 0.01824, saving model to 23_checkpoint.keras\n",
      "Epoch 5/100\n",
      "100/100 [==============================] - 327s 3s/step - loss: 0.0187 - val_loss: 0.0183\n",
      "\n",
      "Epoch 00005: val_loss did not improve from 0.01824\n",
      "Epoch 6/100\n",
      "100/100 [==============================] - 327s 3s/step - loss: 0.0190 - val_loss: 0.0184\n",
      "\n",
      "Epoch 00006: val_loss did not improve from 0.01824\n",
      "Epoch 7/100\n",
      "100/100 [==============================] - 325s 3s/step - loss: 0.0191 - val_loss: 0.0183\n",
      "\n",
      "Epoch 00007: val_loss did not improve from 0.01824\n",
      "Epoch 8/100\n",
      "100/100 [==============================] - 332s 3s/step - loss: 0.0188 - val_loss: 0.0183\n",
      "\n",
      "Epoch 00008: val_loss did not improve from 0.01824\n",
      "Epoch 9/100\n",
      "100/100 [==============================] - 329s 3s/step - loss: 0.0190 - val_loss: 0.0184\n",
      "\n",
      "Epoch 00009: val_loss did not improve from 0.01824\n",
      "Epoch 00009: early stopping\n",
      "CPU times: user 1h 28min 27s, sys: 5min 5s, total: 1h 33min 32s\n",
      "Wall time: 49min 22s\n"
     ]
    },
    {
     "data": {
      "text/plain": [
       "<keras.callbacks.History at 0x3eff7c075c50>"
      ]
     },
     "execution_count": 158,
     "metadata": {},
     "output_type": "execute_result"
    }
   ],
   "source": [
    "%%time\n",
    "model.fit_generator(generator=generator,\n",
    "                    epochs=100,\n",
    "                    steps_per_epoch=100,\n",
    "                    validation_data=validation_data,\n",
    "                    callbacks=callbacks)"
   ]
  },
  {
   "cell_type": "code",
   "execution_count": 159,
   "metadata": {},
   "outputs": [
    {
     "name": "stdout",
     "output_type": "stream",
     "text": [
      "\r",
      "1/1 [==============================] - 6s 6s/step\n"
     ]
    }
   ],
   "source": [
    "result = model.evaluate(x=np.expand_dims(x_test_scaled[:10000], axis=0),\n",
    "                        y=np.expand_dims(y_test_scaled[:10000], axis=0))"
   ]
  },
  {
   "cell_type": "code",
   "execution_count": 215,
   "metadata": {},
   "outputs": [
    {
     "name": "stdout",
     "output_type": "stream",
     "text": [
      "float64\n"
     ]
    }
   ],
   "source": [
    "print(x_test_scaled.dtype)"
   ]
  },
  {
   "cell_type": "code",
   "execution_count": 148,
   "metadata": {},
   "outputs": [],
   "source": [
    "model.save(\"bestwhiskrnnDS2.h5\")"
   ]
  },
  {
   "cell_type": "code",
   "execution_count": 85,
   "metadata": {},
   "outputs": [
    {
     "name": "stdout",
     "output_type": "stream",
     "text": [
      "loss (test-set): 0.014211404137313366\n"
     ]
    }
   ],
   "source": [
    "print(\"loss (test-set):\", result)"
   ]
  },
  {
   "cell_type": "code",
   "execution_count": 86,
   "metadata": {},
   "outputs": [],
   "source": [
    "def r2_keras(y_true, y_pred):\n",
    "    SS_res =  np.sum(np.square(np.subtract(y_true,y_pred))) \n",
    "    print(SS_res)\n",
    "    SS_tot = np.sum(np.square(np.subtract(y_true, np.mean(y_true)))) \n",
    "    print(SS_tot)\n",
    "    return ( 1 - SS_res/(SS_tot))"
   ]
  },
  {
   "cell_type": "code",
   "execution_count": 87,
   "metadata": {},
   "outputs": [],
   "source": [
    "def plot_comparison(start_idx, length=100, train=True):\n",
    "    \"\"\"\n",
    "    Plot the predicted and true output-signals.\n",
    "    \n",
    "    :param start_idx: Start-index for the time-series.\n",
    "    :param length: Sequence-length to process and plot.\n",
    "    :param train: Boolean whether to use training- or test-set.\n",
    "    \"\"\"\n",
    "    \n",
    "    if train:\n",
    "        # Use training-data.\n",
    "        x = x_train_scaled\n",
    "        y_true = y_train_scaled\n",
    "    else:\n",
    "        # Use test-data.\n",
    "        x = x_test_scaled\n",
    "        y_true = y_test_scaled\n",
    "#         x = x_val_scaled\n",
    "#         y_true = y_val_scaled\n",
    "    \n",
    "    # End-index for the sequences.\n",
    "    end_idx = start_idx + length\n",
    "    \n",
    "    # Select the sequences from the given start-index and\n",
    "    # of the given length.\n",
    "    x = x[start_idx:end_idx]\n",
    "    y_true = y_true[start_idx:end_idx]\n",
    "    \n",
    "    # Input-signals for the model.\n",
    "    x = np.expand_dims(x, axis=0)\n",
    "\n",
    "    # Use the model to predict the output-signals.\n",
    "    y_pred = model.predict(x)\n",
    "    print(\"y_pred\")\n",
    "    print(y_pred.dtype)\n",
    "    print(y_true.dtype)\n",
    "    y_true = y_true.astype(np.float32)\n",
    "    sum_pred = []\n",
    "    sum_true = []\n",
    " \n",
    "    # For each output-signal.\n",
    "    for i in range(len(x[0])):\n",
    "        sum_pred.append(np.sum(y_pred[0][i])/(lenx*leny))\n",
    "        sum_true.append(np.sum(y_true[i])/(lenx*leny))\n",
    "    # Plot and compare the two signals.\n",
    "    plt.plot(sum_true, label='true')\n",
    "    plt.plot(sum_pred, label='pred')\n",
    "    print(\"r2\")\n",
    "    print(r2_keras(y_true, y_pred[0]))\n",
    "    print(r2_score(y_true, y_pred[0], multioutput='uniform_average'))\n",
    "    print(explained_variance_score(y_true, y_pred[0],multioutput='uniform_average'))\n",
    "    # Plot grey box for warmup-period.\n",
    "\n",
    "\n",
    "    # Plot labels etc.\n",
    "    plt.ylabel(\"sum\")\n",
    "    plt.legend()\n",
    "    plt.show()"
   ]
  },
  {
   "cell_type": "code",
   "execution_count": 89,
   "metadata": {
    "scrolled": false
   },
   "outputs": [
    {
     "name": "stdout",
     "output_type": "stream",
     "text": [
      "y_pred\n",
      "float32\n",
      "float32\n",
      "r2\n",
      "1690594.2\n",
      "2733413.5\n",
      "0.3815080523490906\n",
      "-0.5368313308085451\n",
      "0.057318556909507275\n"
     ]
    },
    {
     "data": {
      "image/png": "[encoded data removed]",
      "text/plain": [
       "<Figure size 432x288 with 1 Axes>"
      ]
     },
     "metadata": {
      "needs_background": "light"
     },
     "output_type": "display_data"
    }
   ],
   "source": [
    "plot_comparison(start_idx=1000, length=2000, train=False)"
   ]
  },
  {
   "cell_type": "code",
   "execution_count": null,
   "metadata": {},
   "outputs": [],
   "source": [
    "#compare the differences of the images\n",
    "#average error spatially "
   ]
  },
  {
   "cell_type": "code",
   "execution_count": 123,
   "metadata": {},
   "outputs": [],
   "source": [
    "def plot_difference(start_idx, length=100, train=True):\n",
    "    \"\"\"\n",
    "    Plot the predicted and true output-signals.\n",
    "    \n",
    "    :param start_idx: Start-index for the time-series.\n",
    "    :param length: Sequence-length to process and plot.\n",
    "    :param train: Boolean whether to use training- or test-set.\n",
    "    \"\"\"\n",
    "    \n",
    "    if train:\n",
    "        # Use training-data.\n",
    "        x = x_train_scaled\n",
    "        y_true = y_train_scaled\n",
    "    else:\n",
    "        # Use test-data.\n",
    "        x = x_test_scaled\n",
    "        y_true = y_test_scaled\n",
    "#         x = x_val_scaled\n",
    "#         y_true = y_val_scaled\n",
    "    \n",
    "    # End-index for the sequences.\n",
    "    end_idx = start_idx + length\n",
    "    \n",
    "    # Select the sequences from the given start-index and\n",
    "    # of the given length.\n",
    "    x = x[start_idx:end_idx]\n",
    "    y_true = y_true[start_idx:end_idx]\n",
    "    \n",
    "    # Input-signals for the model.\n",
    "    x = np.expand_dims(x, axis=0)\n",
    "\n",
    "    # Use the model to predict the output-signals.\n",
    "    y_pred = model.predict(x)\n",
    "    print(\"y_pred\")\n",
    "    print(y_pred.dtype)\n",
    "    print(y_true.dtype)\n",
    "    y_true = y_true.astype(np.float32)\n",
    "    sum_diff = np.zeros((y_true[0].shape))\n",
    "    count = 0 \n",
    "    print(x.shape)\n",
    "    print(sum_diff.shape)\n",
    "    print(y_pred.shape)\n",
    "    # For each original image subtract the predicted and \n",
    "    for i in range(len(x[0])):\n",
    "        true_im = y_true[i]\n",
    "        pred_im = y_pred[0][i]\n",
    "        sum_diff += np.subtract(true_im, pred_im)\n",
    "        count += 1\n",
    "    print(sum_diff.shape)\n",
    "    avg_im = np.divide(sum_diff, count)\n",
    "    print(avg_im.shape)\n",
    "#     # Plot and compare the two signals.\n",
    "#     plt.plot(sum_true, label='true')\n",
    "#     plt.plot(sum_pred, label='pred')\n",
    "#     print(\"r2\")\n",
    "#     print(r2_keras(y_true, y_pred[0]))\n",
    "#     print(r2_score(y_true, y_pred[0], multioutput='uniform_average'))\n",
    "#     print(explained_variance_score(y_true, y_pred[0],multioutput='uniform_average'))\n",
    "#     # Plot grey box for warmup-period.\n",
    "    \n",
    "    plt.imshow(y_train[100].reshape(300, 295),interpolation='gaussian')\n",
    "    plt.colorbar(label='difference')\n",
    "    plt.show()\n",
    "\n",
    "#     # Plot labels etc.\n",
    "#     plt.ylabel(\"sum\")\n",
    "#     plt.legend()\n",
    "#     plt.show()"
   ]
  },
  {
   "cell_type": "code",
   "execution_count": 124,
   "metadata": {},
   "outputs": [
    {
     "name": "stdout",
     "output_type": "stream",
     "text": [
      "y_pred\n",
      "float32\n",
      "float32\n",
      "(1, 5000, 1)\n",
      "(88500,)\n",
      "(1, 5000, 88500)\n",
      "(88500,)\n",
      "(88500,)\n"
     ]
    },
    {
     "data": {
      "image/png": "[encoded data removed]",
      "text/plain": [
       "<Figure size 432x288 with 2 Axes>"
      ]
     },
     "metadata": {
      "needs_background": "light"
     },
     "output_type": "display_data"
    }
   ],
   "source": [
    "plot_difference(start_idx=1, length=5000, train=False)"
   ]
  },
  {
   "cell_type": "code",
   "execution_count": 118,
   "metadata": {},
   "outputs": [
    {
     "name": "stdout",
     "output_type": "stream",
     "text": [
      "y_pred\n",
      "float32\n",
      "float32\n",
      "(1, 5000, 1)\n",
      "(88500,)\n",
      "(1, 5000, 88500)\n",
      "(88500,)\n",
      "(88500,)\n"
     ]
    },
    {
     "data": {
      "image/png": "[encoded data removed]",
      "text/plain": [
       "<Figure size 432x288 with 2 Axes>"
      ]
     },
     "metadata": {
      "needs_background": "light"
     },
     "output_type": "display_data"
    }
   ],
   "source": [
    "plot_difference(start_idx=1, length=5000, train=False)"
   ]
  },
  {
   "cell_type": "code",
   "execution_count": null,
   "metadata": {},
   "outputs": [],
   "source": []
  }
 ],
 "metadata": {
  "kernelspec": {
   "display_name": "Python 3",
   "language": "python",
   "name": "python3"
  },
  "language_info": {
   "codemirror_mode": {
    "name": "ipython",
    "version": 3
   },
   "file_extension": ".py",
   "mimetype": "text/x-python",
   "name": "python",
   "nbconvert_exporter": "python",
   "pygments_lexer": "ipython3",
   "version": "3.6.8"
  }
 },
 "nbformat": 4,
 "nbformat_minor": 2
}
